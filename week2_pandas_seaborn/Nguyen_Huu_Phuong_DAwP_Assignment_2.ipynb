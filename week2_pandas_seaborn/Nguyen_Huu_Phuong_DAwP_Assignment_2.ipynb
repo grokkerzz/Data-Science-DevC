{
  "nbformat": 4,
  "nbformat_minor": 0,
  "metadata": {
    "colab": {
      "name": "Nguyen Huu Phuong DAwP_Assignment_2.ipynb",
      "version": "0.3.2",
      "provenance": [],
      "collapsed_sections": []
    },
    "language_info": {
      "codemirror_mode": {
        "name": "ipython",
        "version": 3
      },
      "file_extension": ".py",
      "mimetype": "text/x-python",
      "name": "python",
      "nbconvert_exporter": "python",
      "pygments_lexer": "ipython3",
      "version": "3.6.5"
    },
    "kernelspec": {
      "display_name": "Python 3",
      "language": "python",
      "name": "python3"
    }
  },
  "cells": [
    {
      "cell_type": "markdown",
      "metadata": {
        "id": "kL9VPYin9nOD",
        "colab_type": "text"
      },
      "source": [
        "![](https://i.imgur.com/0AUxkXt.png)\n",
        "\n",
        "# SF Salaries Exercise \n",
        "\n",
        "Explore San Francisco city employee salary data.\n",
        "\n",
        "## Overview\n",
        "\n",
        "One way to understand how a city government works is by looking at who it employs and how its employees are compensated. This data contains the names, job title, and compensation for San Francisco city employees on an annual basis from 2011 to 2014.\n",
        "\n",
        "\n",
        "\n",
        "Just follow along and complete the tasks outlined in bold below. The tasks will get harder and harder as you go along.\n",
        "\n",
        "## Resourses\n",
        "\n",
        "[Pandas API Reference](https://pandas.pydata.org/pandas-docs/stable/api.html)\n",
        "\n",
        "[NumPy Reference](https://docs.scipy.org/doc/numpy/reference/)\n",
        "\n",
        "[Visualization with Seaborn](https://jakevdp.github.io/PythonDataScienceHandbook/04.14-visualization-with-seaborn.html)\n"
      ]
    },
    {
      "cell_type": "markdown",
      "metadata": {
        "id": "ueY1PMBl9nOF",
        "colab_type": "text"
      },
      "source": [
        "**Import libraries**"
      ]
    },
    {
      "cell_type": "code",
      "metadata": {
        "id": "dnwk5LCx9nOG",
        "colab_type": "code",
        "colab": {}
      },
      "source": [
        "import pandas as pd\n",
        "import seaborn as sns\n",
        "import matplotlib.pyplot as plt"
      ],
      "execution_count": 0,
      "outputs": []
    },
    {
      "cell_type": "markdown",
      "metadata": {
        "id": "jiOt1hEM9nOJ",
        "colab_type": "text"
      },
      "source": [
        "**Read `Salaries.csv` as a dataframe called `sal`.**"
      ]
    },
    {
      "cell_type": "code",
      "metadata": {
        "id": "yoQOwzZX-ARD",
        "colab_type": "code",
        "outputId": "1ba66767-c1ff-4e8c-df31-71bb5c1d4886",
        "colab": {
          "base_uri": "https://localhost:8080/",
          "height": 34
        }
      },
      "source": [
        "from google.colab import drive\n",
        "drive.mount('/content/gdrive')"
      ],
      "execution_count": 2,
      "outputs": [
        {
          "output_type": "stream",
          "text": [
            "Drive already mounted at /content/gdrive; to attempt to forcibly remount, call drive.mount(\"/content/gdrive\", force_remount=True).\n"
          ],
          "name": "stdout"
        }
      ]
    },
    {
      "cell_type": "code",
      "metadata": {
        "id": "FtA68BoY9nOJ",
        "colab_type": "code",
        "colab": {}
      },
      "source": [
        "sal = pd.read_csv('gdrive/My Drive/CoderSchool-DAwP/Data/Salaries.csv')"
      ],
      "execution_count": 0,
      "outputs": []
    },
    {
      "cell_type": "markdown",
      "metadata": {
        "id": "QW6hV4iv9nOM",
        "colab_type": "text"
      },
      "source": [
        "**Check the head of the DataFrame.**"
      ]
    },
    {
      "cell_type": "code",
      "metadata": {
        "id": "oa2JHHJ99nON",
        "colab_type": "code",
        "outputId": "24e56898-61af-4745-e97e-6f10716a6bbb",
        "colab": {
          "base_uri": "https://localhost:8080/",
          "height": 204
        }
      },
      "source": [
        "sal.head()"
      ],
      "execution_count": 4,
      "outputs": [
        {
          "output_type": "execute_result",
          "data": {
            "text/html": [
              "<div>\n",
              "<style scoped>\n",
              "    .dataframe tbody tr th:only-of-type {\n",
              "        vertical-align: middle;\n",
              "    }\n",
              "\n",
              "    .dataframe tbody tr th {\n",
              "        vertical-align: top;\n",
              "    }\n",
              "\n",
              "    .dataframe thead th {\n",
              "        text-align: right;\n",
              "    }\n",
              "</style>\n",
              "<table border=\"1\" class=\"dataframe\">\n",
              "  <thead>\n",
              "    <tr style=\"text-align: right;\">\n",
              "      <th></th>\n",
              "      <th>Id</th>\n",
              "      <th>EmployeeName</th>\n",
              "      <th>JobTitle</th>\n",
              "      <th>BasePay</th>\n",
              "      <th>OvertimePay</th>\n",
              "      <th>OtherPay</th>\n",
              "      <th>Benefits</th>\n",
              "      <th>TotalPay</th>\n",
              "      <th>TotalPayBenefits</th>\n",
              "      <th>Year</th>\n",
              "      <th>Notes</th>\n",
              "      <th>Agency</th>\n",
              "      <th>Status</th>\n",
              "    </tr>\n",
              "  </thead>\n",
              "  <tbody>\n",
              "    <tr>\n",
              "      <th>0</th>\n",
              "      <td>1</td>\n",
              "      <td>NATHANIEL FORD</td>\n",
              "      <td>GENERAL MANAGER-METROPOLITAN TRANSIT AUTHORITY</td>\n",
              "      <td>167411.18</td>\n",
              "      <td>0.00</td>\n",
              "      <td>400184.25</td>\n",
              "      <td>NaN</td>\n",
              "      <td>567595.43</td>\n",
              "      <td>567595.43</td>\n",
              "      <td>2011</td>\n",
              "      <td>NaN</td>\n",
              "      <td>San Francisco</td>\n",
              "      <td>NaN</td>\n",
              "    </tr>\n",
              "    <tr>\n",
              "      <th>1</th>\n",
              "      <td>2</td>\n",
              "      <td>GARY JIMENEZ</td>\n",
              "      <td>CAPTAIN III (POLICE DEPARTMENT)</td>\n",
              "      <td>155966.02</td>\n",
              "      <td>245131.88</td>\n",
              "      <td>137811.38</td>\n",
              "      <td>NaN</td>\n",
              "      <td>538909.28</td>\n",
              "      <td>538909.28</td>\n",
              "      <td>2011</td>\n",
              "      <td>NaN</td>\n",
              "      <td>San Francisco</td>\n",
              "      <td>NaN</td>\n",
              "    </tr>\n",
              "    <tr>\n",
              "      <th>2</th>\n",
              "      <td>3</td>\n",
              "      <td>ALBERT PARDINI</td>\n",
              "      <td>CAPTAIN III (POLICE DEPARTMENT)</td>\n",
              "      <td>212739.13</td>\n",
              "      <td>106088.18</td>\n",
              "      <td>16452.60</td>\n",
              "      <td>NaN</td>\n",
              "      <td>335279.91</td>\n",
              "      <td>335279.91</td>\n",
              "      <td>2011</td>\n",
              "      <td>NaN</td>\n",
              "      <td>San Francisco</td>\n",
              "      <td>NaN</td>\n",
              "    </tr>\n",
              "    <tr>\n",
              "      <th>3</th>\n",
              "      <td>4</td>\n",
              "      <td>CHRISTOPHER CHONG</td>\n",
              "      <td>WIRE ROPE CABLE MAINTENANCE MECHANIC</td>\n",
              "      <td>77916.00</td>\n",
              "      <td>56120.71</td>\n",
              "      <td>198306.90</td>\n",
              "      <td>NaN</td>\n",
              "      <td>332343.61</td>\n",
              "      <td>332343.61</td>\n",
              "      <td>2011</td>\n",
              "      <td>NaN</td>\n",
              "      <td>San Francisco</td>\n",
              "      <td>NaN</td>\n",
              "    </tr>\n",
              "    <tr>\n",
              "      <th>4</th>\n",
              "      <td>5</td>\n",
              "      <td>PATRICK GARDNER</td>\n",
              "      <td>DEPUTY CHIEF OF DEPARTMENT,(FIRE DEPARTMENT)</td>\n",
              "      <td>134401.60</td>\n",
              "      <td>9737.00</td>\n",
              "      <td>182234.59</td>\n",
              "      <td>NaN</td>\n",
              "      <td>326373.19</td>\n",
              "      <td>326373.19</td>\n",
              "      <td>2011</td>\n",
              "      <td>NaN</td>\n",
              "      <td>San Francisco</td>\n",
              "      <td>NaN</td>\n",
              "    </tr>\n",
              "  </tbody>\n",
              "</table>\n",
              "</div>"
            ],
            "text/plain": [
              "   Id       EmployeeName  ...         Agency  Status\n",
              "0   1     NATHANIEL FORD  ...  San Francisco     NaN\n",
              "1   2       GARY JIMENEZ  ...  San Francisco     NaN\n",
              "2   3     ALBERT PARDINI  ...  San Francisco     NaN\n",
              "3   4  CHRISTOPHER CHONG  ...  San Francisco     NaN\n",
              "4   5    PATRICK GARDNER  ...  San Francisco     NaN\n",
              "\n",
              "[5 rows x 13 columns]"
            ]
          },
          "metadata": {
            "tags": []
          },
          "execution_count": 4
        }
      ]
    },
    {
      "cell_type": "markdown",
      "metadata": {
        "id": "LgRIzJ_l9nOP",
        "colab_type": "text"
      },
      "source": [
        "**Use the .info() method to find out how many entries there are.**"
      ]
    },
    {
      "cell_type": "code",
      "metadata": {
        "id": "JuwgdTfz9nOP",
        "colab_type": "code",
        "outputId": "816a4466-787e-4195-96d6-f1966cbb18c5",
        "colab": {
          "base_uri": "https://localhost:8080/",
          "height": 323
        }
      },
      "source": [
        "sal.info()"
      ],
      "execution_count": 5,
      "outputs": [
        {
          "output_type": "stream",
          "text": [
            "<class 'pandas.core.frame.DataFrame'>\n",
            "RangeIndex: 148654 entries, 0 to 148653\n",
            "Data columns (total 13 columns):\n",
            "Id                  148654 non-null int64\n",
            "EmployeeName        148654 non-null object\n",
            "JobTitle            148654 non-null object\n",
            "BasePay             148045 non-null float64\n",
            "OvertimePay         148650 non-null float64\n",
            "OtherPay            148650 non-null float64\n",
            "Benefits            112491 non-null float64\n",
            "TotalPay            148654 non-null float64\n",
            "TotalPayBenefits    148654 non-null float64\n",
            "Year                148654 non-null int64\n",
            "Notes               0 non-null float64\n",
            "Agency              148654 non-null object\n",
            "Status              0 non-null float64\n",
            "dtypes: float64(8), int64(2), object(3)\n",
            "memory usage: 14.7+ MB\n"
          ],
          "name": "stdout"
        }
      ]
    },
    {
      "cell_type": "markdown",
      "metadata": {
        "id": "RgO49aNW9nOR",
        "colab_type": "text"
      },
      "source": [
        "**What is the average BasePay ?**\n",
        "\n",
        "Keyword: [mean](https://pandas.pydata.org/pandas-docs/stable/generated/pandas.DataFrame.mean.html)"
      ]
    },
    {
      "cell_type": "code",
      "metadata": {
        "id": "twQu_3xj9nOS",
        "colab_type": "code",
        "outputId": "25a2dd58-46e2-451a-a78d-b0fc6bff3e1d",
        "colab": {
          "base_uri": "https://localhost:8080/",
          "height": 34
        }
      },
      "source": [
        "sal['BasePay'].mean()"
      ],
      "execution_count": 6,
      "outputs": [
        {
          "output_type": "execute_result",
          "data": {
            "text/plain": [
              "66325.44884050643"
            ]
          },
          "metadata": {
            "tags": []
          },
          "execution_count": 6
        }
      ]
    },
    {
      "cell_type": "markdown",
      "metadata": {
        "id": "qQc-OERD9nOU",
        "colab_type": "text"
      },
      "source": [
        "**What is the lowest and highest amount of BasePay?**\n",
        "\n",
        "Keyword: \n",
        "[min](https://pandas.pydata.org/pandas-docs/stable/generated/pandas.DataFrame.min.html) , \n",
        "[max](https://pandas.pydata.org/pandas-docs/stable/generated/pandas.DataFrame.max.html)"
      ]
    },
    {
      "cell_type": "code",
      "metadata": {
        "id": "22XKRdg49nOV",
        "colab_type": "code",
        "outputId": "dca42208-bb45-4a97-ee50-5a8b3fb25e8b",
        "colab": {
          "base_uri": "https://localhost:8080/",
          "height": 34
        }
      },
      "source": [
        "print('Lowest amount of BasePay: {}'.format(sal['BasePay'].min()))"
      ],
      "execution_count": 7,
      "outputs": [
        {
          "output_type": "stream",
          "text": [
            "Lowest amount of BasePay: -166.01\n"
          ],
          "name": "stdout"
        }
      ]
    },
    {
      "cell_type": "code",
      "metadata": {
        "id": "R-yPM0ZU9nOX",
        "colab_type": "code",
        "outputId": "8da6a076-7c9e-48d0-ee67-8948119bfc0e",
        "colab": {
          "base_uri": "https://localhost:8080/",
          "height": 34
        }
      },
      "source": [
        "print('Highest amount of BasePay: {}'.format(sal['BasePay'].max()))"
      ],
      "execution_count": 8,
      "outputs": [
        {
          "output_type": "stream",
          "text": [
            "Highest amount of BasePay: 319275.01\n"
          ],
          "name": "stdout"
        }
      ]
    },
    {
      "cell_type": "markdown",
      "metadata": {
        "id": "-MdkKp6U9nOa",
        "colab_type": "text"
      },
      "source": [
        "**How about OvertimePay in the dataset? What is the average, lowest, highest amount?**"
      ]
    },
    {
      "cell_type": "code",
      "metadata": {
        "id": "Og2yxCil9nOb",
        "colab_type": "code",
        "outputId": "66ca04b4-29f8-42b4-c775-4448ca214ca7",
        "colab": {
          "base_uri": "https://localhost:8080/",
          "height": 68
        }
      },
      "source": [
        "print('Agerage amount of OvertimePay: {}'.format(sal['OvertimePay'].mean()))\n",
        "print('Lowest amount of OvertimePay: {}'.format(sal['OvertimePay'].min()))\n",
        "print('Highest amount of OvertimePay: {}'.format(sal['OvertimePay'].max()))"
      ],
      "execution_count": 9,
      "outputs": [
        {
          "output_type": "stream",
          "text": [
            "Agerage amount of OvertimePay: 5066.059886444622\n",
            "Lowest amount of OvertimePay: -0.01\n",
            "Highest amount of OvertimePay: 245131.88\n"
          ],
          "name": "stdout"
        }
      ]
    },
    {
      "cell_type": "markdown",
      "metadata": {
        "id": "mF0zrXXh9nOf",
        "colab_type": "text"
      },
      "source": [
        "**What is the job title of  JOSEPH DRISCOLL ? Note: Use all caps, otherwise you may get an answer that doesn't match up (there is also a lowercase Joseph Driscoll).**"
      ]
    },
    {
      "cell_type": "code",
      "metadata": {
        "id": "wbqO05iu9nOh",
        "colab_type": "code",
        "outputId": "fa40d0f4-5bdb-431c-c155-a4a1b25debd4",
        "colab": {
          "base_uri": "https://localhost:8080/",
          "height": 51
        }
      },
      "source": [
        "sal[sal['EmployeeName'] == 'Joseph Driscoll']['EmployeeName']"
      ],
      "execution_count": 10,
      "outputs": [
        {
          "output_type": "execute_result",
          "data": {
            "text/plain": [
              "36198    Joseph Driscoll\n",
              "Name: EmployeeName, dtype: object"
            ]
          },
          "metadata": {
            "tags": []
          },
          "execution_count": 10
        }
      ]
    },
    {
      "cell_type": "code",
      "metadata": {
        "id": "MwzxTlI29nOl",
        "colab_type": "code",
        "outputId": "711949f1-eaae-475b-de56-965d59c4e777",
        "colab": {
          "base_uri": "https://localhost:8080/",
          "height": 51
        }
      },
      "source": [
        "# Now try to select Employees who have name \"GARY JIMENEZ\"\n",
        "# Your code here\n",
        "sal[sal['EmployeeName'] == 'GARY JIMENEZ']['EmployeeName']"
      ],
      "execution_count": 11,
      "outputs": [
        {
          "output_type": "execute_result",
          "data": {
            "text/plain": [
              "1    GARY JIMENEZ\n",
              "Name: EmployeeName, dtype: object"
            ]
          },
          "metadata": {
            "tags": []
          },
          "execution_count": 11
        }
      ]
    },
    {
      "cell_type": "markdown",
      "metadata": {
        "id": "0nrHI4iu9nOn",
        "colab_type": "text"
      },
      "source": [
        "**How much does JOSEPH DRISCOLL make (including benefits)?**"
      ]
    },
    {
      "cell_type": "code",
      "metadata": {
        "id": "TUZlBSDE9nOo",
        "colab_type": "code",
        "outputId": "cd50f1c6-bf6f-4c81-f6e6-1449456f325b",
        "colab": {
          "base_uri": "https://localhost:8080/",
          "height": 51
        }
      },
      "source": [
        "sal[sal['EmployeeName'] == 'Joseph Driscoll']['TotalPayBenefits']"
      ],
      "execution_count": 12,
      "outputs": [
        {
          "output_type": "execute_result",
          "data": {
            "text/plain": [
              "36198    331834.79\n",
              "Name: TotalPayBenefits, dtype: float64"
            ]
          },
          "metadata": {
            "tags": []
          },
          "execution_count": 12
        }
      ]
    },
    {
      "cell_type": "markdown",
      "metadata": {
        "id": "1thjd2GC9nOq",
        "colab_type": "text"
      },
      "source": [
        "**What is the name of highest paid person (including benefits)?**"
      ]
    },
    {
      "cell_type": "code",
      "metadata": {
        "id": "msrq-7Ww9nOr",
        "colab_type": "code",
        "outputId": "67564b95-8fb4-4eb5-cc91-1f27dfc5fd44",
        "colab": {
          "base_uri": "https://localhost:8080/",
          "height": 80
        }
      },
      "source": [
        "sal[sal['TotalPayBenefits'] == sal['TotalPayBenefits'].max()]"
      ],
      "execution_count": 13,
      "outputs": [
        {
          "output_type": "execute_result",
          "data": {
            "text/html": [
              "<div>\n",
              "<style scoped>\n",
              "    .dataframe tbody tr th:only-of-type {\n",
              "        vertical-align: middle;\n",
              "    }\n",
              "\n",
              "    .dataframe tbody tr th {\n",
              "        vertical-align: top;\n",
              "    }\n",
              "\n",
              "    .dataframe thead th {\n",
              "        text-align: right;\n",
              "    }\n",
              "</style>\n",
              "<table border=\"1\" class=\"dataframe\">\n",
              "  <thead>\n",
              "    <tr style=\"text-align: right;\">\n",
              "      <th></th>\n",
              "      <th>Id</th>\n",
              "      <th>EmployeeName</th>\n",
              "      <th>JobTitle</th>\n",
              "      <th>BasePay</th>\n",
              "      <th>OvertimePay</th>\n",
              "      <th>OtherPay</th>\n",
              "      <th>Benefits</th>\n",
              "      <th>TotalPay</th>\n",
              "      <th>TotalPayBenefits</th>\n",
              "      <th>Year</th>\n",
              "      <th>Notes</th>\n",
              "      <th>Agency</th>\n",
              "      <th>Status</th>\n",
              "    </tr>\n",
              "  </thead>\n",
              "  <tbody>\n",
              "    <tr>\n",
              "      <th>0</th>\n",
              "      <td>1</td>\n",
              "      <td>NATHANIEL FORD</td>\n",
              "      <td>GENERAL MANAGER-METROPOLITAN TRANSIT AUTHORITY</td>\n",
              "      <td>167411.18</td>\n",
              "      <td>0.0</td>\n",
              "      <td>400184.25</td>\n",
              "      <td>NaN</td>\n",
              "      <td>567595.43</td>\n",
              "      <td>567595.43</td>\n",
              "      <td>2011</td>\n",
              "      <td>NaN</td>\n",
              "      <td>San Francisco</td>\n",
              "      <td>NaN</td>\n",
              "    </tr>\n",
              "  </tbody>\n",
              "</table>\n",
              "</div>"
            ],
            "text/plain": [
              "   Id    EmployeeName  ...         Agency  Status\n",
              "0   1  NATHANIEL FORD  ...  San Francisco     NaN\n",
              "\n",
              "[1 rows x 13 columns]"
            ]
          },
          "metadata": {
            "tags": []
          },
          "execution_count": 13
        }
      ]
    },
    {
      "cell_type": "markdown",
      "metadata": {
        "id": "uF2kX93x9nOu",
        "colab_type": "text"
      },
      "source": [
        "**What is the name of lowest paid person (including benefits)? Do you notice something strange about how much he or she is paid?**"
      ]
    },
    {
      "cell_type": "code",
      "metadata": {
        "id": "htAfatTl9nOv",
        "colab_type": "code",
        "outputId": "68989e08-acbc-41ae-a911-7e7ff20841f7",
        "colab": {
          "base_uri": "https://localhost:8080/",
          "height": 80
        }
      },
      "source": [
        "sal[sal['TotalPayBenefits'] == sal['TotalPayBenefits'].min()]"
      ],
      "execution_count": 14,
      "outputs": [
        {
          "output_type": "execute_result",
          "data": {
            "text/html": [
              "<div>\n",
              "<style scoped>\n",
              "    .dataframe tbody tr th:only-of-type {\n",
              "        vertical-align: middle;\n",
              "    }\n",
              "\n",
              "    .dataframe tbody tr th {\n",
              "        vertical-align: top;\n",
              "    }\n",
              "\n",
              "    .dataframe thead th {\n",
              "        text-align: right;\n",
              "    }\n",
              "</style>\n",
              "<table border=\"1\" class=\"dataframe\">\n",
              "  <thead>\n",
              "    <tr style=\"text-align: right;\">\n",
              "      <th></th>\n",
              "      <th>Id</th>\n",
              "      <th>EmployeeName</th>\n",
              "      <th>JobTitle</th>\n",
              "      <th>BasePay</th>\n",
              "      <th>OvertimePay</th>\n",
              "      <th>OtherPay</th>\n",
              "      <th>Benefits</th>\n",
              "      <th>TotalPay</th>\n",
              "      <th>TotalPayBenefits</th>\n",
              "      <th>Year</th>\n",
              "      <th>Notes</th>\n",
              "      <th>Agency</th>\n",
              "      <th>Status</th>\n",
              "    </tr>\n",
              "  </thead>\n",
              "  <tbody>\n",
              "    <tr>\n",
              "      <th>148653</th>\n",
              "      <td>148654</td>\n",
              "      <td>Joe Lopez</td>\n",
              "      <td>Counselor, Log Cabin Ranch</td>\n",
              "      <td>0.0</td>\n",
              "      <td>0.0</td>\n",
              "      <td>-618.13</td>\n",
              "      <td>0.0</td>\n",
              "      <td>-618.13</td>\n",
              "      <td>-618.13</td>\n",
              "      <td>2014</td>\n",
              "      <td>NaN</td>\n",
              "      <td>San Francisco</td>\n",
              "      <td>NaN</td>\n",
              "    </tr>\n",
              "  </tbody>\n",
              "</table>\n",
              "</div>"
            ],
            "text/plain": [
              "            Id EmployeeName  ...         Agency  Status\n",
              "148653  148654    Joe Lopez  ...  San Francisco     NaN\n",
              "\n",
              "[1 rows x 13 columns]"
            ]
          },
          "metadata": {
            "tags": []
          },
          "execution_count": 14
        }
      ]
    },
    {
      "cell_type": "code",
      "metadata": {
        "id": "1LX-sbaJGlkG",
        "colab_type": "code",
        "colab": {}
      },
      "source": [
        "# Joe owes money."
      ],
      "execution_count": 0,
      "outputs": []
    },
    {
      "cell_type": "markdown",
      "metadata": {
        "id": "WB0HTvjM9nOx",
        "colab_type": "text"
      },
      "source": [
        "**What was the average (mean) BasePay of all employees per year? (2011-2014) ?**\n",
        "Keyword: _groupby_"
      ]
    },
    {
      "cell_type": "code",
      "metadata": {
        "id": "6Y5mUYir9nOy",
        "colab_type": "code",
        "outputId": "04138fae-1adc-421e-9611-946d023cceae",
        "colab": {
          "base_uri": "https://localhost:8080/",
          "height": 119
        }
      },
      "source": [
        "sal.groupby('Year')['BasePay'].mean()"
      ],
      "execution_count": 16,
      "outputs": [
        {
          "output_type": "execute_result",
          "data": {
            "text/plain": [
              "Year\n",
              "2011    63595.956517\n",
              "2012    65436.406857\n",
              "2013    69630.030216\n",
              "2014    66564.421924\n",
              "Name: BasePay, dtype: float64"
            ]
          },
          "metadata": {
            "tags": []
          },
          "execution_count": 16
        }
      ]
    },
    {
      "cell_type": "markdown",
      "metadata": {
        "id": "k8Qzx9MD9nO0",
        "colab_type": "text"
      },
      "source": [
        "**How many unique job titles are there?**\n",
        "\n",
        "Keyword: _unique, nunique_"
      ]
    },
    {
      "cell_type": "code",
      "metadata": {
        "id": "KEaQxlqzGvD8",
        "colab_type": "code",
        "outputId": "e71255d5-562d-4793-e78e-571f25588c79",
        "colab": {
          "base_uri": "https://localhost:8080/",
          "height": 34
        }
      },
      "source": [
        "sal['JobTitle'].nunique()"
      ],
      "execution_count": 17,
      "outputs": [
        {
          "output_type": "execute_result",
          "data": {
            "text/plain": [
              "2159"
            ]
          },
          "metadata": {
            "tags": []
          },
          "execution_count": 17
        }
      ]
    },
    {
      "cell_type": "markdown",
      "metadata": {
        "id": "0dkyZe-39nO4",
        "colab_type": "text"
      },
      "source": [
        "**What are the top 5 most common jobs?**\n",
        "\n",
        "Keyword: *value_counts*"
      ]
    },
    {
      "cell_type": "code",
      "metadata": {
        "id": "zgbuzFuFHDgP",
        "colab_type": "code",
        "outputId": "43eed0a3-e3ed-4c58-8ab4-a65b74aa2a9d",
        "colab": {
          "base_uri": "https://localhost:8080/",
          "height": 85
        }
      },
      "source": [
        "sal['JobTitle'].value_counts()[:3]"
      ],
      "execution_count": 18,
      "outputs": [
        {
          "output_type": "execute_result",
          "data": {
            "text/plain": [
              "Transit Operator    7036\n",
              "Special Nurse       4389\n",
              "Registered Nurse    3736\n",
              "Name: JobTitle, dtype: int64"
            ]
          },
          "metadata": {
            "tags": []
          },
          "execution_count": 18
        }
      ]
    },
    {
      "cell_type": "markdown",
      "metadata": {
        "id": "25fCX21U9nO-",
        "colab_type": "text"
      },
      "source": [
        "**How many Job Titles were represented by only one person in 2013? (e.g. Job Titles with only one occurence in 2013?)**"
      ]
    },
    {
      "cell_type": "code",
      "metadata": {
        "id": "e9vr6BKD9nPA",
        "colab_type": "code",
        "outputId": "7f7e091f-ed42-4b84-9a3d-5d77586569b4",
        "colab": {
          "base_uri": "https://localhost:8080/",
          "height": 34
        }
      },
      "source": [
        "sal[sal['Year'] == 2013]['JobTitle'].value_counts().nunique()"
      ],
      "execution_count": 19,
      "outputs": [
        {
          "output_type": "execute_result",
          "data": {
            "text/plain": [
              "152"
            ]
          },
          "metadata": {
            "tags": []
          },
          "execution_count": 19
        }
      ]
    },
    {
      "cell_type": "markdown",
      "metadata": {
        "id": "HoiNghja9nPD",
        "colab_type": "text"
      },
      "source": [
        "**How many people have the word Chief in their job title?**"
      ]
    },
    {
      "cell_type": "code",
      "metadata": {
        "id": "mBc0hzan9nPE",
        "colab_type": "code",
        "colab": {
          "base_uri": "https://localhost:8080/",
          "height": 49
        },
        "outputId": "d4390672-bbec-46ee-fc35-5298cc955d3d"
      },
      "source": [
        "sal[sal['JobTitle'].str.contains('chief')]"
      ],
      "execution_count": 20,
      "outputs": [
        {
          "output_type": "execute_result",
          "data": {
            "text/html": [
              "<div>\n",
              "<style scoped>\n",
              "    .dataframe tbody tr th:only-of-type {\n",
              "        vertical-align: middle;\n",
              "    }\n",
              "\n",
              "    .dataframe tbody tr th {\n",
              "        vertical-align: top;\n",
              "    }\n",
              "\n",
              "    .dataframe thead th {\n",
              "        text-align: right;\n",
              "    }\n",
              "</style>\n",
              "<table border=\"1\" class=\"dataframe\">\n",
              "  <thead>\n",
              "    <tr style=\"text-align: right;\">\n",
              "      <th></th>\n",
              "      <th>Id</th>\n",
              "      <th>EmployeeName</th>\n",
              "      <th>JobTitle</th>\n",
              "      <th>BasePay</th>\n",
              "      <th>OvertimePay</th>\n",
              "      <th>OtherPay</th>\n",
              "      <th>Benefits</th>\n",
              "      <th>TotalPay</th>\n",
              "      <th>TotalPayBenefits</th>\n",
              "      <th>Year</th>\n",
              "      <th>Notes</th>\n",
              "      <th>Agency</th>\n",
              "      <th>Status</th>\n",
              "    </tr>\n",
              "  </thead>\n",
              "  <tbody>\n",
              "  </tbody>\n",
              "</table>\n",
              "</div>"
            ],
            "text/plain": [
              "Empty DataFrame\n",
              "Columns: [Id, EmployeeName, JobTitle, BasePay, OvertimePay, OtherPay, Benefits, TotalPay, TotalPayBenefits, Year, Notes, Agency, Status]\n",
              "Index: []"
            ]
          },
          "metadata": {
            "tags": []
          },
          "execution_count": 20
        }
      ]
    },
    {
      "cell_type": "code",
      "metadata": {
        "id": "6emuaR_nvhlN",
        "colab_type": "code",
        "colab": {
          "base_uri": "https://localhost:8080/",
          "height": 1000
        },
        "outputId": "f956b62c-d2ab-475e-9516-2ef63373a7ae"
      },
      "source": [
        "sal[sal['JobTitle'].str.contains('Chief')]"
      ],
      "execution_count": 21,
      "outputs": [
        {
          "output_type": "execute_result",
          "data": {
            "text/html": [
              "<div>\n",
              "<style scoped>\n",
              "    .dataframe tbody tr th:only-of-type {\n",
              "        vertical-align: middle;\n",
              "    }\n",
              "\n",
              "    .dataframe tbody tr th {\n",
              "        vertical-align: top;\n",
              "    }\n",
              "\n",
              "    .dataframe thead th {\n",
              "        text-align: right;\n",
              "    }\n",
              "</style>\n",
              "<table border=\"1\" class=\"dataframe\">\n",
              "  <thead>\n",
              "    <tr style=\"text-align: right;\">\n",
              "      <th></th>\n",
              "      <th>Id</th>\n",
              "      <th>EmployeeName</th>\n",
              "      <th>JobTitle</th>\n",
              "      <th>BasePay</th>\n",
              "      <th>OvertimePay</th>\n",
              "      <th>OtherPay</th>\n",
              "      <th>Benefits</th>\n",
              "      <th>TotalPay</th>\n",
              "      <th>TotalPayBenefits</th>\n",
              "      <th>Year</th>\n",
              "      <th>Notes</th>\n",
              "      <th>Agency</th>\n",
              "      <th>Status</th>\n",
              "    </tr>\n",
              "  </thead>\n",
              "  <tbody>\n",
              "    <tr>\n",
              "      <th>36160</th>\n",
              "      <td>36161</td>\n",
              "      <td>Gregory Suhr</td>\n",
              "      <td>Chief of Police</td>\n",
              "      <td>302578.00</td>\n",
              "      <td>0.00</td>\n",
              "      <td>18974.11</td>\n",
              "      <td>69810.19</td>\n",
              "      <td>321552.11</td>\n",
              "      <td>391362.30</td>\n",
              "      <td>2012</td>\n",
              "      <td>NaN</td>\n",
              "      <td>San Francisco</td>\n",
              "      <td>NaN</td>\n",
              "    </tr>\n",
              "    <tr>\n",
              "      <th>36162</th>\n",
              "      <td>36163</td>\n",
              "      <td>Joanne Hayes-White</td>\n",
              "      <td>Chief, Fire Department</td>\n",
              "      <td>296943.01</td>\n",
              "      <td>0.00</td>\n",
              "      <td>17816.59</td>\n",
              "      <td>72047.88</td>\n",
              "      <td>314759.60</td>\n",
              "      <td>386807.48</td>\n",
              "      <td>2012</td>\n",
              "      <td>NaN</td>\n",
              "      <td>San Francisco</td>\n",
              "      <td>NaN</td>\n",
              "    </tr>\n",
              "    <tr>\n",
              "      <th>36169</th>\n",
              "      <td>36170</td>\n",
              "      <td>Brendan Ward</td>\n",
              "      <td>Battlion Chief, Fire Suppressi</td>\n",
              "      <td>174822.47</td>\n",
              "      <td>118215.58</td>\n",
              "      <td>28845.78</td>\n",
              "      <td>49648.09</td>\n",
              "      <td>321883.83</td>\n",
              "      <td>371531.92</td>\n",
              "      <td>2012</td>\n",
              "      <td>NaN</td>\n",
              "      <td>San Francisco</td>\n",
              "      <td>NaN</td>\n",
              "    </tr>\n",
              "    <tr>\n",
              "      <th>36170</th>\n",
              "      <td>36171</td>\n",
              "      <td>Samson Lai</td>\n",
              "      <td>Battlion Chief, Fire Suppressi</td>\n",
              "      <td>174822.44</td>\n",
              "      <td>112731.28</td>\n",
              "      <td>28660.28</td>\n",
              "      <td>53249.56</td>\n",
              "      <td>316214.00</td>\n",
              "      <td>369463.56</td>\n",
              "      <td>2012</td>\n",
              "      <td>NaN</td>\n",
              "      <td>San Francisco</td>\n",
              "      <td>NaN</td>\n",
              "    </tr>\n",
              "    <tr>\n",
              "      <th>36171</th>\n",
              "      <td>36172</td>\n",
              "      <td>Rudy Castellanos</td>\n",
              "      <td>Battlion Chief, Fire Suppressi</td>\n",
              "      <td>176771.74</td>\n",
              "      <td>124413.13</td>\n",
              "      <td>15803.39</td>\n",
              "      <td>52320.90</td>\n",
              "      <td>316988.26</td>\n",
              "      <td>369309.16</td>\n",
              "      <td>2012</td>\n",
              "      <td>NaN</td>\n",
              "      <td>San Francisco</td>\n",
              "      <td>NaN</td>\n",
              "    </tr>\n",
              "    <tr>\n",
              "      <th>36172</th>\n",
              "      <td>36173</td>\n",
              "      <td>Marty Ross</td>\n",
              "      <td>Battlion Chief, Fire Suppressi</td>\n",
              "      <td>174822.41</td>\n",
              "      <td>99623.51</td>\n",
              "      <td>36522.39</td>\n",
              "      <td>55353.92</td>\n",
              "      <td>310968.31</td>\n",
              "      <td>366322.23</td>\n",
              "      <td>2012</td>\n",
              "      <td>NaN</td>\n",
              "      <td>San Francisco</td>\n",
              "      <td>NaN</td>\n",
              "    </tr>\n",
              "    <tr>\n",
              "      <th>36173</th>\n",
              "      <td>36174</td>\n",
              "      <td>Mark Kearney</td>\n",
              "      <td>Assistant Deputy Chief 2</td>\n",
              "      <td>124573.50</td>\n",
              "      <td>22599.60</td>\n",
              "      <td>180516.68</td>\n",
              "      <td>32381.00</td>\n",
              "      <td>327689.78</td>\n",
              "      <td>360070.78</td>\n",
              "      <td>2012</td>\n",
              "      <td>NaN</td>\n",
              "      <td>San Francisco</td>\n",
              "      <td>NaN</td>\n",
              "    </tr>\n",
              "    <tr>\n",
              "      <th>36179</th>\n",
              "      <td>36180</td>\n",
              "      <td>Michael Morris</td>\n",
              "      <td>Assistant Deputy Chief 2</td>\n",
              "      <td>223371.00</td>\n",
              "      <td>7415.52</td>\n",
              "      <td>63426.03</td>\n",
              "      <td>56202.98</td>\n",
              "      <td>294212.55</td>\n",
              "      <td>350415.53</td>\n",
              "      <td>2012</td>\n",
              "      <td>NaN</td>\n",
              "      <td>San Francisco</td>\n",
              "      <td>NaN</td>\n",
              "    </tr>\n",
              "    <tr>\n",
              "      <th>36181</th>\n",
              "      <td>36182</td>\n",
              "      <td>James Dudley</td>\n",
              "      <td>Deputy Chief 3</td>\n",
              "      <td>263426.50</td>\n",
              "      <td>0.00</td>\n",
              "      <td>22857.87</td>\n",
              "      <td>59265.59</td>\n",
              "      <td>286284.37</td>\n",
              "      <td>345549.96</td>\n",
              "      <td>2012</td>\n",
              "      <td>NaN</td>\n",
              "      <td>San Francisco</td>\n",
              "      <td>NaN</td>\n",
              "    </tr>\n",
              "    <tr>\n",
              "      <th>36190</th>\n",
              "      <td>36191</td>\n",
              "      <td>Thomas Harvey</td>\n",
              "      <td>Assistant Deputy Chief 2</td>\n",
              "      <td>226475.05</td>\n",
              "      <td>0.00</td>\n",
              "      <td>54967.53</td>\n",
              "      <td>55722.16</td>\n",
              "      <td>281442.58</td>\n",
              "      <td>337164.74</td>\n",
              "      <td>2012</td>\n",
              "      <td>NaN</td>\n",
              "      <td>San Francisco</td>\n",
              "      <td>NaN</td>\n",
              "    </tr>\n",
              "    <tr>\n",
              "      <th>36196</th>\n",
              "      <td>36197</td>\n",
              "      <td>David Shinn</td>\n",
              "      <td>Deputy Chief 3</td>\n",
              "      <td>263426.50</td>\n",
              "      <td>0.00</td>\n",
              "      <td>12320.80</td>\n",
              "      <td>57576.73</td>\n",
              "      <td>275747.30</td>\n",
              "      <td>333324.03</td>\n",
              "      <td>2012</td>\n",
              "      <td>NaN</td>\n",
              "      <td>San Francisco</td>\n",
              "      <td>NaN</td>\n",
              "    </tr>\n",
              "    <tr>\n",
              "      <th>36197</th>\n",
              "      <td>36198</td>\n",
              "      <td>Kevin Cashman</td>\n",
              "      <td>Deputy Chief 3</td>\n",
              "      <td>253094.51</td>\n",
              "      <td>0.00</td>\n",
              "      <td>22206.40</td>\n",
              "      <td>56561.05</td>\n",
              "      <td>275300.91</td>\n",
              "      <td>331861.96</td>\n",
              "      <td>2012</td>\n",
              "      <td>NaN</td>\n",
              "      <td>San Francisco</td>\n",
              "      <td>NaN</td>\n",
              "    </tr>\n",
              "    <tr>\n",
              "      <th>36201</th>\n",
              "      <td>36202</td>\n",
              "      <td>Pete Fay Jr</td>\n",
              "      <td>Battlion Chief, Fire Suppressi</td>\n",
              "      <td>176515.48</td>\n",
              "      <td>74246.62</td>\n",
              "      <td>23772.00</td>\n",
              "      <td>53207.72</td>\n",
              "      <td>274534.10</td>\n",
              "      <td>327741.82</td>\n",
              "      <td>2012</td>\n",
              "      <td>NaN</td>\n",
              "      <td>San Francisco</td>\n",
              "      <td>NaN</td>\n",
              "    </tr>\n",
              "    <tr>\n",
              "      <th>36204</th>\n",
              "      <td>36205</td>\n",
              "      <td>Denise Schmitt</td>\n",
              "      <td>Deputy Chief 3</td>\n",
              "      <td>263390.60</td>\n",
              "      <td>0.00</td>\n",
              "      <td>819.01</td>\n",
              "      <td>60298.97</td>\n",
              "      <td>264209.61</td>\n",
              "      <td>324508.58</td>\n",
              "      <td>2012</td>\n",
              "      <td>NaN</td>\n",
              "      <td>San Francisco</td>\n",
              "      <td>NaN</td>\n",
              "    </tr>\n",
              "    <tr>\n",
              "      <th>36208</th>\n",
              "      <td>36209</td>\n",
              "      <td>Kevin Taylor</td>\n",
              "      <td>Battlion Chief, Fire Suppressi</td>\n",
              "      <td>176515.48</td>\n",
              "      <td>71643.89</td>\n",
              "      <td>23352.06</td>\n",
              "      <td>47455.23</td>\n",
              "      <td>271511.43</td>\n",
              "      <td>318966.66</td>\n",
              "      <td>2012</td>\n",
              "      <td>NaN</td>\n",
              "      <td>San Francisco</td>\n",
              "      <td>NaN</td>\n",
              "    </tr>\n",
              "    <tr>\n",
              "      <th>36212</th>\n",
              "      <td>36213</td>\n",
              "      <td>Kirk Richardson</td>\n",
              "      <td>Battlion Chief, Fire Suppressi</td>\n",
              "      <td>174822.50</td>\n",
              "      <td>67875.53</td>\n",
              "      <td>21516.98</td>\n",
              "      <td>52568.73</td>\n",
              "      <td>264215.01</td>\n",
              "      <td>316783.74</td>\n",
              "      <td>2012</td>\n",
              "      <td>NaN</td>\n",
              "      <td>San Francisco</td>\n",
              "      <td>NaN</td>\n",
              "    </tr>\n",
              "    <tr>\n",
              "      <th>36215</th>\n",
              "      <td>36216</td>\n",
              "      <td>Lorrie Kalos</td>\n",
              "      <td>Battlion Chief, Fire Suppressi</td>\n",
              "      <td>174822.48</td>\n",
              "      <td>63116.25</td>\n",
              "      <td>24255.85</td>\n",
              "      <td>52687.80</td>\n",
              "      <td>262194.58</td>\n",
              "      <td>314882.38</td>\n",
              "      <td>2012</td>\n",
              "      <td>NaN</td>\n",
              "      <td>San Francisco</td>\n",
              "      <td>NaN</td>\n",
              "    </tr>\n",
              "    <tr>\n",
              "      <th>36220</th>\n",
              "      <td>36221</td>\n",
              "      <td>James Vannucchi</td>\n",
              "      <td>Battlion Chief, Fire Suppressi</td>\n",
              "      <td>174822.43</td>\n",
              "      <td>53465.15</td>\n",
              "      <td>30760.78</td>\n",
              "      <td>49888.38</td>\n",
              "      <td>259048.36</td>\n",
              "      <td>308936.74</td>\n",
              "      <td>2012</td>\n",
              "      <td>NaN</td>\n",
              "      <td>San Francisco</td>\n",
              "      <td>NaN</td>\n",
              "    </tr>\n",
              "    <tr>\n",
              "      <th>36222</th>\n",
              "      <td>36223</td>\n",
              "      <td>Bryan Rubenstein</td>\n",
              "      <td>Battlion Chief, Fire Suppressi</td>\n",
              "      <td>174822.44</td>\n",
              "      <td>58091.97</td>\n",
              "      <td>23603.24</td>\n",
              "      <td>52059.82</td>\n",
              "      <td>256517.65</td>\n",
              "      <td>308577.47</td>\n",
              "      <td>2012</td>\n",
              "      <td>NaN</td>\n",
              "      <td>San Francisco</td>\n",
              "      <td>NaN</td>\n",
              "    </tr>\n",
              "    <tr>\n",
              "      <th>36226</th>\n",
              "      <td>36227</td>\n",
              "      <td>Michael Thompson</td>\n",
              "      <td>Battlion Chief, Fire Suppressi</td>\n",
              "      <td>176515.52</td>\n",
              "      <td>54339.84</td>\n",
              "      <td>22064.50</td>\n",
              "      <td>52776.95</td>\n",
              "      <td>252919.86</td>\n",
              "      <td>305696.81</td>\n",
              "      <td>2012</td>\n",
              "      <td>NaN</td>\n",
              "      <td>San Francisco</td>\n",
              "      <td>NaN</td>\n",
              "    </tr>\n",
              "    <tr>\n",
              "      <th>36228</th>\n",
              "      <td>36229</td>\n",
              "      <td>Kevin Smith</td>\n",
              "      <td>Battlion Chief, Fire Suppressi</td>\n",
              "      <td>176515.52</td>\n",
              "      <td>45860.99</td>\n",
              "      <td>27969.77</td>\n",
              "      <td>53182.45</td>\n",
              "      <td>250346.28</td>\n",
              "      <td>303528.73</td>\n",
              "      <td>2012</td>\n",
              "      <td>NaN</td>\n",
              "      <td>San Francisco</td>\n",
              "      <td>NaN</td>\n",
              "    </tr>\n",
              "    <tr>\n",
              "      <th>36230</th>\n",
              "      <td>36231</td>\n",
              "      <td>Rex Hale</td>\n",
              "      <td>Battlion Chief, Fire Suppressi</td>\n",
              "      <td>176515.49</td>\n",
              "      <td>49002.61</td>\n",
              "      <td>24503.36</td>\n",
              "      <td>52693.66</td>\n",
              "      <td>250021.46</td>\n",
              "      <td>302715.12</td>\n",
              "      <td>2012</td>\n",
              "      <td>NaN</td>\n",
              "      <td>San Francisco</td>\n",
              "      <td>NaN</td>\n",
              "    </tr>\n",
              "    <tr>\n",
              "      <th>36233</th>\n",
              "      <td>36234</td>\n",
              "      <td>Jose Velo</td>\n",
              "      <td>Assistant Deputy Chief 2</td>\n",
              "      <td>226475.02</td>\n",
              "      <td>0.00</td>\n",
              "      <td>16877.44</td>\n",
              "      <td>58449.76</td>\n",
              "      <td>243352.46</td>\n",
              "      <td>301802.22</td>\n",
              "      <td>2012</td>\n",
              "      <td>NaN</td>\n",
              "      <td>San Francisco</td>\n",
              "      <td>NaN</td>\n",
              "    </tr>\n",
              "    <tr>\n",
              "      <th>36241</th>\n",
              "      <td>36242</td>\n",
              "      <td>Jeffrey Myers</td>\n",
              "      <td>Emergency Medical Svcs Chief</td>\n",
              "      <td>226475.00</td>\n",
              "      <td>0.00</td>\n",
              "      <td>13588.50</td>\n",
              "      <td>57982.22</td>\n",
              "      <td>240063.50</td>\n",
              "      <td>298045.72</td>\n",
              "      <td>2012</td>\n",
              "      <td>NaN</td>\n",
              "      <td>San Francisco</td>\n",
              "      <td>NaN</td>\n",
              "    </tr>\n",
              "    <tr>\n",
              "      <th>36247</th>\n",
              "      <td>36248</td>\n",
              "      <td>Lyn Tomioka</td>\n",
              "      <td>Deputy Chief 3</td>\n",
              "      <td>234405.50</td>\n",
              "      <td>0.00</td>\n",
              "      <td>5884.63</td>\n",
              "      <td>55870.50</td>\n",
              "      <td>240290.13</td>\n",
              "      <td>296160.63</td>\n",
              "      <td>2012</td>\n",
              "      <td>NaN</td>\n",
              "      <td>San Francisco</td>\n",
              "      <td>NaN</td>\n",
              "    </tr>\n",
              "    <tr>\n",
              "      <th>36248</th>\n",
              "      <td>36249</td>\n",
              "      <td>George Garcia</td>\n",
              "      <td>Battlion Chief, Fire Suppressi</td>\n",
              "      <td>144510.79</td>\n",
              "      <td>76624.10</td>\n",
              "      <td>32650.42</td>\n",
              "      <td>42316.01</td>\n",
              "      <td>253785.31</td>\n",
              "      <td>296101.32</td>\n",
              "      <td>2012</td>\n",
              "      <td>NaN</td>\n",
              "      <td>San Francisco</td>\n",
              "      <td>NaN</td>\n",
              "    </tr>\n",
              "    <tr>\n",
              "      <th>36250</th>\n",
              "      <td>36251</td>\n",
              "      <td>Michael Bryant</td>\n",
              "      <td>Battlion Chief, Fire Suppressi</td>\n",
              "      <td>176515.50</td>\n",
              "      <td>41747.56</td>\n",
              "      <td>24263.24</td>\n",
              "      <td>52962.59</td>\n",
              "      <td>242526.30</td>\n",
              "      <td>295488.89</td>\n",
              "      <td>2012</td>\n",
              "      <td>NaN</td>\n",
              "      <td>San Francisco</td>\n",
              "      <td>NaN</td>\n",
              "    </tr>\n",
              "    <tr>\n",
              "      <th>36256</th>\n",
              "      <td>36257</td>\n",
              "      <td>Michael Biel</td>\n",
              "      <td>Deputy Chief 3</td>\n",
              "      <td>221828.00</td>\n",
              "      <td>0.00</td>\n",
              "      <td>19194.10</td>\n",
              "      <td>52217.79</td>\n",
              "      <td>241022.10</td>\n",
              "      <td>293239.89</td>\n",
              "      <td>2012</td>\n",
              "      <td>NaN</td>\n",
              "      <td>San Francisco</td>\n",
              "      <td>NaN</td>\n",
              "    </tr>\n",
              "    <tr>\n",
              "      <th>36259</th>\n",
              "      <td>36260</td>\n",
              "      <td>Charles Crane</td>\n",
              "      <td>Battlion Chief, Fire Suppressi</td>\n",
              "      <td>176515.51</td>\n",
              "      <td>51949.05</td>\n",
              "      <td>13581.09</td>\n",
              "      <td>50933.68</td>\n",
              "      <td>242045.65</td>\n",
              "      <td>292979.33</td>\n",
              "      <td>2012</td>\n",
              "      <td>NaN</td>\n",
              "      <td>San Francisco</td>\n",
              "      <td>NaN</td>\n",
              "    </tr>\n",
              "    <tr>\n",
              "      <th>36263</th>\n",
              "      <td>36264</td>\n",
              "      <td>Mark Johnson</td>\n",
              "      <td>Battlion Chief, Fire Suppressi</td>\n",
              "      <td>174822.43</td>\n",
              "      <td>39792.60</td>\n",
              "      <td>22624.05</td>\n",
              "      <td>51764.36</td>\n",
              "      <td>237239.08</td>\n",
              "      <td>289003.44</td>\n",
              "      <td>2012</td>\n",
              "      <td>NaN</td>\n",
              "      <td>San Francisco</td>\n",
              "      <td>NaN</td>\n",
              "    </tr>\n",
              "    <tr>\n",
              "      <th>...</th>\n",
              "      <td>...</td>\n",
              "      <td>...</td>\n",
              "      <td>...</td>\n",
              "      <td>...</td>\n",
              "      <td>...</td>\n",
              "      <td>...</td>\n",
              "      <td>...</td>\n",
              "      <td>...</td>\n",
              "      <td>...</td>\n",
              "      <td>...</td>\n",
              "      <td>...</td>\n",
              "      <td>...</td>\n",
              "      <td>...</td>\n",
              "    </tr>\n",
              "    <tr>\n",
              "      <th>120012</th>\n",
              "      <td>120013</td>\n",
              "      <td>Mark A Naddy</td>\n",
              "      <td>Chief Stationary Engineer</td>\n",
              "      <td>99736.06</td>\n",
              "      <td>450.62</td>\n",
              "      <td>5934.48</td>\n",
              "      <td>36955.12</td>\n",
              "      <td>106121.16</td>\n",
              "      <td>143076.28</td>\n",
              "      <td>2014</td>\n",
              "      <td>NaN</td>\n",
              "      <td>San Francisco</td>\n",
              "      <td>NaN</td>\n",
              "    </tr>\n",
              "    <tr>\n",
              "      <th>121045</th>\n",
              "      <td>121046</td>\n",
              "      <td>Rolando C Lopez</td>\n",
              "      <td>Chief Stationary Engineer</td>\n",
              "      <td>91172.93</td>\n",
              "      <td>5517.86</td>\n",
              "      <td>5300.90</td>\n",
              "      <td>34959.56</td>\n",
              "      <td>101991.69</td>\n",
              "      <td>136951.25</td>\n",
              "      <td>2014</td>\n",
              "      <td>NaN</td>\n",
              "      <td>San Francisco</td>\n",
              "      <td>NaN</td>\n",
              "    </tr>\n",
              "    <tr>\n",
              "      <th>122123</th>\n",
              "      <td>122124</td>\n",
              "      <td>Nerivaldo C Santos</td>\n",
              "      <td>Chief Fire Alarm Dispatcher</td>\n",
              "      <td>90665.02</td>\n",
              "      <td>7235.84</td>\n",
              "      <td>70.00</td>\n",
              "      <td>33692.92</td>\n",
              "      <td>97970.86</td>\n",
              "      <td>131663.78</td>\n",
              "      <td>2014</td>\n",
              "      <td>NaN</td>\n",
              "      <td>San Francisco</td>\n",
              "      <td>NaN</td>\n",
              "    </tr>\n",
              "    <tr>\n",
              "      <th>122170</th>\n",
              "      <td>122171</td>\n",
              "      <td>James M Ryan</td>\n",
              "      <td>Chief Surveyor</td>\n",
              "      <td>95288.05</td>\n",
              "      <td>396.83</td>\n",
              "      <td>0.00</td>\n",
              "      <td>35673.70</td>\n",
              "      <td>95684.88</td>\n",
              "      <td>131358.58</td>\n",
              "      <td>2014</td>\n",
              "      <td>NaN</td>\n",
              "      <td>San Francisco</td>\n",
              "      <td>NaN</td>\n",
              "    </tr>\n",
              "    <tr>\n",
              "      <th>122574</th>\n",
              "      <td>122575</td>\n",
              "      <td>Loretta M Cecconi</td>\n",
              "      <td>Chief Dietitian</td>\n",
              "      <td>94694.30</td>\n",
              "      <td>0.00</td>\n",
              "      <td>200.00</td>\n",
              "      <td>34558.44</td>\n",
              "      <td>94894.30</td>\n",
              "      <td>129452.74</td>\n",
              "      <td>2014</td>\n",
              "      <td>NaN</td>\n",
              "      <td>San Francisco</td>\n",
              "      <td>NaN</td>\n",
              "    </tr>\n",
              "    <tr>\n",
              "      <th>123030</th>\n",
              "      <td>123031</td>\n",
              "      <td>Michael G Gay</td>\n",
              "      <td>Chief Stationary Engineer</td>\n",
              "      <td>81476.01</td>\n",
              "      <td>5806.87</td>\n",
              "      <td>17427.93</td>\n",
              "      <td>22612.24</td>\n",
              "      <td>104710.81</td>\n",
              "      <td>127323.05</td>\n",
              "      <td>2014</td>\n",
              "      <td>NaN</td>\n",
              "      <td>San Francisco</td>\n",
              "      <td>NaN</td>\n",
              "    </tr>\n",
              "    <tr>\n",
              "      <th>124548</th>\n",
              "      <td>124549</td>\n",
              "      <td>Paul H Mabry</td>\n",
              "      <td>Chief Surveyor</td>\n",
              "      <td>88421.29</td>\n",
              "      <td>0.00</td>\n",
              "      <td>0.00</td>\n",
              "      <td>31060.87</td>\n",
              "      <td>88421.29</td>\n",
              "      <td>119482.16</td>\n",
              "      <td>2014</td>\n",
              "      <td>NaN</td>\n",
              "      <td>San Francisco</td>\n",
              "      <td>NaN</td>\n",
              "    </tr>\n",
              "    <tr>\n",
              "      <th>124647</th>\n",
              "      <td>124648</td>\n",
              "      <td>Mark Y Antonio</td>\n",
              "      <td>Chief Clerk</td>\n",
              "      <td>82230.07</td>\n",
              "      <td>0.00</td>\n",
              "      <td>3397.31</td>\n",
              "      <td>33432.00</td>\n",
              "      <td>85627.38</td>\n",
              "      <td>119059.38</td>\n",
              "      <td>2014</td>\n",
              "      <td>NaN</td>\n",
              "      <td>San Francisco</td>\n",
              "      <td>NaN</td>\n",
              "    </tr>\n",
              "    <tr>\n",
              "      <th>125497</th>\n",
              "      <td>125498</td>\n",
              "      <td>Artie L L Kelly</td>\n",
              "      <td>Chief Clerk</td>\n",
              "      <td>82230.01</td>\n",
              "      <td>0.00</td>\n",
              "      <td>1156.44</td>\n",
              "      <td>32076.41</td>\n",
              "      <td>83386.45</td>\n",
              "      <td>115462.86</td>\n",
              "      <td>2014</td>\n",
              "      <td>NaN</td>\n",
              "      <td>San Francisco</td>\n",
              "      <td>NaN</td>\n",
              "    </tr>\n",
              "    <tr>\n",
              "      <th>125525</th>\n",
              "      <td>125526</td>\n",
              "      <td>Tuti I Suardana</td>\n",
              "      <td>Chief Clerk</td>\n",
              "      <td>82230.03</td>\n",
              "      <td>0.00</td>\n",
              "      <td>1040.00</td>\n",
              "      <td>32063.05</td>\n",
              "      <td>83270.03</td>\n",
              "      <td>115333.08</td>\n",
              "      <td>2014</td>\n",
              "      <td>NaN</td>\n",
              "      <td>San Francisco</td>\n",
              "      <td>NaN</td>\n",
              "    </tr>\n",
              "    <tr>\n",
              "      <th>125670</th>\n",
              "      <td>125671</td>\n",
              "      <td>Sylvia N Thai</td>\n",
              "      <td>Chief Clerk</td>\n",
              "      <td>82230.04</td>\n",
              "      <td>0.00</td>\n",
              "      <td>624.00</td>\n",
              "      <td>31970.56</td>\n",
              "      <td>82854.04</td>\n",
              "      <td>114824.60</td>\n",
              "      <td>2014</td>\n",
              "      <td>NaN</td>\n",
              "      <td>San Francisco</td>\n",
              "      <td>NaN</td>\n",
              "    </tr>\n",
              "    <tr>\n",
              "      <th>125673</th>\n",
              "      <td>125674</td>\n",
              "      <td>Deborah L Brown</td>\n",
              "      <td>Chief Clerk</td>\n",
              "      <td>82230.01</td>\n",
              "      <td>0.00</td>\n",
              "      <td>624.00</td>\n",
              "      <td>31970.56</td>\n",
              "      <td>82854.01</td>\n",
              "      <td>114824.57</td>\n",
              "      <td>2014</td>\n",
              "      <td>NaN</td>\n",
              "      <td>San Francisco</td>\n",
              "      <td>NaN</td>\n",
              "    </tr>\n",
              "    <tr>\n",
              "      <th>125861</th>\n",
              "      <td>125862</td>\n",
              "      <td>Cuong Quach</td>\n",
              "      <td>Chief Clerk</td>\n",
              "      <td>82299.89</td>\n",
              "      <td>0.00</td>\n",
              "      <td>0.00</td>\n",
              "      <td>31861.18</td>\n",
              "      <td>82299.89</td>\n",
              "      <td>114161.07</td>\n",
              "      <td>2014</td>\n",
              "      <td>NaN</td>\n",
              "      <td>San Francisco</td>\n",
              "      <td>NaN</td>\n",
              "    </tr>\n",
              "    <tr>\n",
              "      <th>125893</th>\n",
              "      <td>125894</td>\n",
              "      <td>Peter Aviles</td>\n",
              "      <td>Chief Clerk</td>\n",
              "      <td>82230.02</td>\n",
              "      <td>0.00</td>\n",
              "      <td>0.00</td>\n",
              "      <td>31834.29</td>\n",
              "      <td>82230.02</td>\n",
              "      <td>114064.31</td>\n",
              "      <td>2014</td>\n",
              "      <td>NaN</td>\n",
              "      <td>San Francisco</td>\n",
              "      <td>NaN</td>\n",
              "    </tr>\n",
              "    <tr>\n",
              "      <th>125907</th>\n",
              "      <td>125908</td>\n",
              "      <td>Shahin P Shaikh</td>\n",
              "      <td>Chief Clerk</td>\n",
              "      <td>82195.25</td>\n",
              "      <td>0.00</td>\n",
              "      <td>0.00</td>\n",
              "      <td>31820.96</td>\n",
              "      <td>82195.25</td>\n",
              "      <td>114016.21</td>\n",
              "      <td>2014</td>\n",
              "      <td>NaN</td>\n",
              "      <td>San Francisco</td>\n",
              "      <td>NaN</td>\n",
              "    </tr>\n",
              "    <tr>\n",
              "      <th>126041</th>\n",
              "      <td>126042</td>\n",
              "      <td>Donald P Margolis</td>\n",
              "      <td>Assistant Chief Attorney 1</td>\n",
              "      <td>62720.01</td>\n",
              "      <td>0.00</td>\n",
              "      <td>33084.71</td>\n",
              "      <td>17560.74</td>\n",
              "      <td>95804.72</td>\n",
              "      <td>113365.46</td>\n",
              "      <td>2014</td>\n",
              "      <td>NaN</td>\n",
              "      <td>San Francisco</td>\n",
              "      <td>NaN</td>\n",
              "    </tr>\n",
              "    <tr>\n",
              "      <th>127965</th>\n",
              "      <td>127966</td>\n",
              "      <td>Sylvia M Selinger</td>\n",
              "      <td>Chief Clerk</td>\n",
              "      <td>75606.53</td>\n",
              "      <td>0.00</td>\n",
              "      <td>0.00</td>\n",
              "      <td>31027.57</td>\n",
              "      <td>75606.53</td>\n",
              "      <td>106634.10</td>\n",
              "      <td>2014</td>\n",
              "      <td>NaN</td>\n",
              "      <td>San Francisco</td>\n",
              "      <td>NaN</td>\n",
              "    </tr>\n",
              "    <tr>\n",
              "      <th>128030</th>\n",
              "      <td>128031</td>\n",
              "      <td>Janice Gragasin</td>\n",
              "      <td>Chief Clerk</td>\n",
              "      <td>75968.03</td>\n",
              "      <td>0.00</td>\n",
              "      <td>0.00</td>\n",
              "      <td>30478.04</td>\n",
              "      <td>75968.03</td>\n",
              "      <td>106446.07</td>\n",
              "      <td>2014</td>\n",
              "      <td>NaN</td>\n",
              "      <td>San Francisco</td>\n",
              "      <td>NaN</td>\n",
              "    </tr>\n",
              "    <tr>\n",
              "      <th>131266</th>\n",
              "      <td>131267</td>\n",
              "      <td>Cheryl L Coleman</td>\n",
              "      <td>Chief Clerk</td>\n",
              "      <td>68089.84</td>\n",
              "      <td>0.00</td>\n",
              "      <td>40.00</td>\n",
              "      <td>26349.83</td>\n",
              "      <td>68129.84</td>\n",
              "      <td>94479.67</td>\n",
              "      <td>2014</td>\n",
              "      <td>NaN</td>\n",
              "      <td>San Francisco</td>\n",
              "      <td>NaN</td>\n",
              "    </tr>\n",
              "    <tr>\n",
              "      <th>131377</th>\n",
              "      <td>131378</td>\n",
              "      <td>Ann M Castillo</td>\n",
              "      <td>Chief Telephone Operator</td>\n",
              "      <td>65117.43</td>\n",
              "      <td>0.00</td>\n",
              "      <td>624.60</td>\n",
              "      <td>28244.66</td>\n",
              "      <td>65742.03</td>\n",
              "      <td>93986.69</td>\n",
              "      <td>2014</td>\n",
              "      <td>NaN</td>\n",
              "      <td>San Francisco</td>\n",
              "      <td>NaN</td>\n",
              "    </tr>\n",
              "    <tr>\n",
              "      <th>132799</th>\n",
              "      <td>132800</td>\n",
              "      <td>Judith A Boyajian</td>\n",
              "      <td>Assistant Chief Attorney 1</td>\n",
              "      <td>88352.39</td>\n",
              "      <td>0.00</td>\n",
              "      <td>575.00</td>\n",
              "      <td>0.00</td>\n",
              "      <td>88927.39</td>\n",
              "      <td>88927.39</td>\n",
              "      <td>2014</td>\n",
              "      <td>NaN</td>\n",
              "      <td>San Francisco</td>\n",
              "      <td>NaN</td>\n",
              "    </tr>\n",
              "    <tr>\n",
              "      <th>133842</th>\n",
              "      <td>133843</td>\n",
              "      <td>Jennifer L Novak</td>\n",
              "      <td>Chief Clerk</td>\n",
              "      <td>61327.71</td>\n",
              "      <td>0.00</td>\n",
              "      <td>696.96</td>\n",
              "      <td>23793.25</td>\n",
              "      <td>62024.67</td>\n",
              "      <td>85817.92</td>\n",
              "      <td>2014</td>\n",
              "      <td>NaN</td>\n",
              "      <td>San Francisco</td>\n",
              "      <td>NaN</td>\n",
              "    </tr>\n",
              "    <tr>\n",
              "      <th>137010</th>\n",
              "      <td>137011</td>\n",
              "      <td>Ryan L Butterfield</td>\n",
              "      <td>Chief Preparator</td>\n",
              "      <td>46950.77</td>\n",
              "      <td>0.00</td>\n",
              "      <td>0.00</td>\n",
              "      <td>20659.10</td>\n",
              "      <td>46950.77</td>\n",
              "      <td>67609.87</td>\n",
              "      <td>2014</td>\n",
              "      <td>NaN</td>\n",
              "      <td>San Francisco</td>\n",
              "      <td>NaN</td>\n",
              "    </tr>\n",
              "    <tr>\n",
              "      <th>137168</th>\n",
              "      <td>137169</td>\n",
              "      <td>Tony E Durkee</td>\n",
              "      <td>Chief Surveyor</td>\n",
              "      <td>65432.94</td>\n",
              "      <td>0.00</td>\n",
              "      <td>0.00</td>\n",
              "      <td>654.38</td>\n",
              "      <td>65432.94</td>\n",
              "      <td>66087.32</td>\n",
              "      <td>2014</td>\n",
              "      <td>NaN</td>\n",
              "      <td>San Francisco</td>\n",
              "      <td>NaN</td>\n",
              "    </tr>\n",
              "    <tr>\n",
              "      <th>137553</th>\n",
              "      <td>137554</td>\n",
              "      <td>Paula Jesson</td>\n",
              "      <td>Assistant Chief Attorney 1</td>\n",
              "      <td>62095.32</td>\n",
              "      <td>0.00</td>\n",
              "      <td>431.25</td>\n",
              "      <td>0.00</td>\n",
              "      <td>62526.57</td>\n",
              "      <td>62526.57</td>\n",
              "      <td>2014</td>\n",
              "      <td>NaN</td>\n",
              "      <td>San Francisco</td>\n",
              "      <td>NaN</td>\n",
              "    </tr>\n",
              "    <tr>\n",
              "      <th>138011</th>\n",
              "      <td>138012</td>\n",
              "      <td>Sharon C Jackson</td>\n",
              "      <td>Chief Deputy Adlt Probation Of</td>\n",
              "      <td>56660.18</td>\n",
              "      <td>0.00</td>\n",
              "      <td>0.00</td>\n",
              "      <td>566.61</td>\n",
              "      <td>56660.18</td>\n",
              "      <td>57226.79</td>\n",
              "      <td>2014</td>\n",
              "      <td>NaN</td>\n",
              "      <td>San Francisco</td>\n",
              "      <td>NaN</td>\n",
              "    </tr>\n",
              "    <tr>\n",
              "      <th>139620</th>\n",
              "      <td>139621</td>\n",
              "      <td>Anita S Lee</td>\n",
              "      <td>Chief Clerk</td>\n",
              "      <td>38598.86</td>\n",
              "      <td>0.00</td>\n",
              "      <td>0.00</td>\n",
              "      <td>386.00</td>\n",
              "      <td>38598.86</td>\n",
              "      <td>38984.86</td>\n",
              "      <td>2014</td>\n",
              "      <td>NaN</td>\n",
              "      <td>San Francisco</td>\n",
              "      <td>NaN</td>\n",
              "    </tr>\n",
              "    <tr>\n",
              "      <th>139709</th>\n",
              "      <td>139710</td>\n",
              "      <td>George D Vaughan</td>\n",
              "      <td>Chief Nursery Specialist</td>\n",
              "      <td>27319.47</td>\n",
              "      <td>483.90</td>\n",
              "      <td>0.00</td>\n",
              "      <td>10334.67</td>\n",
              "      <td>27803.37</td>\n",
              "      <td>38138.04</td>\n",
              "      <td>2014</td>\n",
              "      <td>NaN</td>\n",
              "      <td>San Francisco</td>\n",
              "      <td>NaN</td>\n",
              "    </tr>\n",
              "    <tr>\n",
              "      <th>140080</th>\n",
              "      <td>140081</td>\n",
              "      <td>Patrick W Gillespie</td>\n",
              "      <td>Chief Preparator</td>\n",
              "      <td>24091.00</td>\n",
              "      <td>0.00</td>\n",
              "      <td>0.00</td>\n",
              "      <td>10176.77</td>\n",
              "      <td>24091.00</td>\n",
              "      <td>34267.77</td>\n",
              "      <td>2014</td>\n",
              "      <td>NaN</td>\n",
              "      <td>San Francisco</td>\n",
              "      <td>NaN</td>\n",
              "    </tr>\n",
              "    <tr>\n",
              "      <th>140156</th>\n",
              "      <td>140157</td>\n",
              "      <td>Christopher L Ochoa</td>\n",
              "      <td>Chief Stationary Engineer</td>\n",
              "      <td>24392.00</td>\n",
              "      <td>418.71</td>\n",
              "      <td>0.00</td>\n",
              "      <td>8918.44</td>\n",
              "      <td>24810.71</td>\n",
              "      <td>33729.15</td>\n",
              "      <td>2014</td>\n",
              "      <td>NaN</td>\n",
              "      <td>San Francisco</td>\n",
              "      <td>NaN</td>\n",
              "    </tr>\n",
              "  </tbody>\n",
              "</table>\n",
              "<p>423 rows × 13 columns</p>\n",
              "</div>"
            ],
            "text/plain": [
              "            Id         EmployeeName  ...         Agency  Status\n",
              "36160    36161         Gregory Suhr  ...  San Francisco     NaN\n",
              "36162    36163   Joanne Hayes-White  ...  San Francisco     NaN\n",
              "36169    36170         Brendan Ward  ...  San Francisco     NaN\n",
              "36170    36171           Samson Lai  ...  San Francisco     NaN\n",
              "36171    36172     Rudy Castellanos  ...  San Francisco     NaN\n",
              "36172    36173           Marty Ross  ...  San Francisco     NaN\n",
              "36173    36174         Mark Kearney  ...  San Francisco     NaN\n",
              "36179    36180       Michael Morris  ...  San Francisco     NaN\n",
              "36181    36182         James Dudley  ...  San Francisco     NaN\n",
              "36190    36191        Thomas Harvey  ...  San Francisco     NaN\n",
              "36196    36197          David Shinn  ...  San Francisco     NaN\n",
              "36197    36198        Kevin Cashman  ...  San Francisco     NaN\n",
              "36201    36202          Pete Fay Jr  ...  San Francisco     NaN\n",
              "36204    36205       Denise Schmitt  ...  San Francisco     NaN\n",
              "36208    36209         Kevin Taylor  ...  San Francisco     NaN\n",
              "36212    36213      Kirk Richardson  ...  San Francisco     NaN\n",
              "36215    36216         Lorrie Kalos  ...  San Francisco     NaN\n",
              "36220    36221      James Vannucchi  ...  San Francisco     NaN\n",
              "36222    36223     Bryan Rubenstein  ...  San Francisco     NaN\n",
              "36226    36227     Michael Thompson  ...  San Francisco     NaN\n",
              "36228    36229          Kevin Smith  ...  San Francisco     NaN\n",
              "36230    36231             Rex Hale  ...  San Francisco     NaN\n",
              "36233    36234            Jose Velo  ...  San Francisco     NaN\n",
              "36241    36242        Jeffrey Myers  ...  San Francisco     NaN\n",
              "36247    36248          Lyn Tomioka  ...  San Francisco     NaN\n",
              "36248    36249        George Garcia  ...  San Francisco     NaN\n",
              "36250    36251       Michael Bryant  ...  San Francisco     NaN\n",
              "36256    36257         Michael Biel  ...  San Francisco     NaN\n",
              "36259    36260        Charles Crane  ...  San Francisco     NaN\n",
              "36263    36264         Mark Johnson  ...  San Francisco     NaN\n",
              "...        ...                  ...  ...            ...     ...\n",
              "120012  120013         Mark A Naddy  ...  San Francisco     NaN\n",
              "121045  121046      Rolando C Lopez  ...  San Francisco     NaN\n",
              "122123  122124   Nerivaldo C Santos  ...  San Francisco     NaN\n",
              "122170  122171         James M Ryan  ...  San Francisco     NaN\n",
              "122574  122575    Loretta M Cecconi  ...  San Francisco     NaN\n",
              "123030  123031        Michael G Gay  ...  San Francisco     NaN\n",
              "124548  124549         Paul H Mabry  ...  San Francisco     NaN\n",
              "124647  124648       Mark Y Antonio  ...  San Francisco     NaN\n",
              "125497  125498      Artie L L Kelly  ...  San Francisco     NaN\n",
              "125525  125526      Tuti I Suardana  ...  San Francisco     NaN\n",
              "125670  125671        Sylvia N Thai  ...  San Francisco     NaN\n",
              "125673  125674      Deborah L Brown  ...  San Francisco     NaN\n",
              "125861  125862          Cuong Quach  ...  San Francisco     NaN\n",
              "125893  125894         Peter Aviles  ...  San Francisco     NaN\n",
              "125907  125908      Shahin P Shaikh  ...  San Francisco     NaN\n",
              "126041  126042    Donald P Margolis  ...  San Francisco     NaN\n",
              "127965  127966    Sylvia M Selinger  ...  San Francisco     NaN\n",
              "128030  128031      Janice Gragasin  ...  San Francisco     NaN\n",
              "131266  131267     Cheryl L Coleman  ...  San Francisco     NaN\n",
              "131377  131378       Ann M Castillo  ...  San Francisco     NaN\n",
              "132799  132800    Judith A Boyajian  ...  San Francisco     NaN\n",
              "133842  133843     Jennifer L Novak  ...  San Francisco     NaN\n",
              "137010  137011   Ryan L Butterfield  ...  San Francisco     NaN\n",
              "137168  137169        Tony E Durkee  ...  San Francisco     NaN\n",
              "137553  137554         Paula Jesson  ...  San Francisco     NaN\n",
              "138011  138012     Sharon C Jackson  ...  San Francisco     NaN\n",
              "139620  139621          Anita S Lee  ...  San Francisco     NaN\n",
              "139709  139710     George D Vaughan  ...  San Francisco     NaN\n",
              "140080  140081  Patrick W Gillespie  ...  San Francisco     NaN\n",
              "140156  140157  Christopher L Ochoa  ...  San Francisco     NaN\n",
              "\n",
              "[423 rows x 13 columns]"
            ]
          },
          "metadata": {
            "tags": []
          },
          "execution_count": 21
        }
      ]
    },
    {
      "cell_type": "code",
      "metadata": {
        "id": "17lknPMot1h_",
        "colab_type": "code",
        "colab": {
          "base_uri": "https://localhost:8080/",
          "height": 1000
        },
        "outputId": "3f1f4ff7-b327-4c97-f044-a7302f213a69"
      },
      "source": [
        "sal[sal['JobTitle'].str.contains(\"CHIEF\")]"
      ],
      "execution_count": 22,
      "outputs": [
        {
          "output_type": "execute_result",
          "data": {
            "text/html": [
              "<div>\n",
              "<style scoped>\n",
              "    .dataframe tbody tr th:only-of-type {\n",
              "        vertical-align: middle;\n",
              "    }\n",
              "\n",
              "    .dataframe tbody tr th {\n",
              "        vertical-align: top;\n",
              "    }\n",
              "\n",
              "    .dataframe thead th {\n",
              "        text-align: right;\n",
              "    }\n",
              "</style>\n",
              "<table border=\"1\" class=\"dataframe\">\n",
              "  <thead>\n",
              "    <tr style=\"text-align: right;\">\n",
              "      <th></th>\n",
              "      <th>Id</th>\n",
              "      <th>EmployeeName</th>\n",
              "      <th>JobTitle</th>\n",
              "      <th>BasePay</th>\n",
              "      <th>OvertimePay</th>\n",
              "      <th>OtherPay</th>\n",
              "      <th>Benefits</th>\n",
              "      <th>TotalPay</th>\n",
              "      <th>TotalPayBenefits</th>\n",
              "      <th>Year</th>\n",
              "      <th>Notes</th>\n",
              "      <th>Agency</th>\n",
              "      <th>Status</th>\n",
              "    </tr>\n",
              "  </thead>\n",
              "  <tbody>\n",
              "    <tr>\n",
              "      <th>4</th>\n",
              "      <td>5</td>\n",
              "      <td>PATRICK GARDNER</td>\n",
              "      <td>DEPUTY CHIEF OF DEPARTMENT,(FIRE DEPARTMENT)</td>\n",
              "      <td>134401.60</td>\n",
              "      <td>9737.00</td>\n",
              "      <td>182234.59</td>\n",
              "      <td>NaN</td>\n",
              "      <td>326373.19</td>\n",
              "      <td>326373.19</td>\n",
              "      <td>2011</td>\n",
              "      <td>NaN</td>\n",
              "      <td>San Francisco</td>\n",
              "      <td>NaN</td>\n",
              "    </tr>\n",
              "    <tr>\n",
              "      <th>5</th>\n",
              "      <td>6</td>\n",
              "      <td>DAVID SULLIVAN</td>\n",
              "      <td>ASSISTANT DEPUTY CHIEF II</td>\n",
              "      <td>118602.00</td>\n",
              "      <td>8601.00</td>\n",
              "      <td>189082.74</td>\n",
              "      <td>NaN</td>\n",
              "      <td>316285.74</td>\n",
              "      <td>316285.74</td>\n",
              "      <td>2011</td>\n",
              "      <td>NaN</td>\n",
              "      <td>San Francisco</td>\n",
              "      <td>NaN</td>\n",
              "    </tr>\n",
              "    <tr>\n",
              "      <th>6</th>\n",
              "      <td>7</td>\n",
              "      <td>ALSON LEE</td>\n",
              "      <td>BATTALION CHIEF, (FIRE DEPARTMENT)</td>\n",
              "      <td>92492.01</td>\n",
              "      <td>89062.90</td>\n",
              "      <td>134426.14</td>\n",
              "      <td>NaN</td>\n",
              "      <td>315981.05</td>\n",
              "      <td>315981.05</td>\n",
              "      <td>2011</td>\n",
              "      <td>NaN</td>\n",
              "      <td>San Francisco</td>\n",
              "      <td>NaN</td>\n",
              "    </tr>\n",
              "    <tr>\n",
              "      <th>8</th>\n",
              "      <td>9</td>\n",
              "      <td>MICHAEL MORRIS</td>\n",
              "      <td>BATTALION CHIEF, (FIRE DEPARTMENT)</td>\n",
              "      <td>176932.64</td>\n",
              "      <td>86362.68</td>\n",
              "      <td>40132.23</td>\n",
              "      <td>NaN</td>\n",
              "      <td>303427.55</td>\n",
              "      <td>303427.55</td>\n",
              "      <td>2011</td>\n",
              "      <td>NaN</td>\n",
              "      <td>San Francisco</td>\n",
              "      <td>NaN</td>\n",
              "    </tr>\n",
              "    <tr>\n",
              "      <th>9</th>\n",
              "      <td>10</td>\n",
              "      <td>JOANNE HAYES-WHITE</td>\n",
              "      <td>CHIEF OF DEPARTMENT, (FIRE DEPARTMENT)</td>\n",
              "      <td>285262.00</td>\n",
              "      <td>0.00</td>\n",
              "      <td>17115.73</td>\n",
              "      <td>NaN</td>\n",
              "      <td>302377.73</td>\n",
              "      <td>302377.73</td>\n",
              "      <td>2011</td>\n",
              "      <td>NaN</td>\n",
              "      <td>San Francisco</td>\n",
              "      <td>NaN</td>\n",
              "    </tr>\n",
              "    <tr>\n",
              "      <th>10</th>\n",
              "      <td>11</td>\n",
              "      <td>ARTHUR KENNEY</td>\n",
              "      <td>ASSISTANT CHIEF OF DEPARTMENT, (FIRE DEPARTMENT)</td>\n",
              "      <td>194999.39</td>\n",
              "      <td>71344.88</td>\n",
              "      <td>33149.90</td>\n",
              "      <td>NaN</td>\n",
              "      <td>299494.17</td>\n",
              "      <td>299494.17</td>\n",
              "      <td>2011</td>\n",
              "      <td>NaN</td>\n",
              "      <td>San Francisco</td>\n",
              "      <td>NaN</td>\n",
              "    </tr>\n",
              "    <tr>\n",
              "      <th>14</th>\n",
              "      <td>15</td>\n",
              "      <td>DAVID FRANKLIN</td>\n",
              "      <td>BATTALION CHIEF, (FIRE DEPARTMENT)</td>\n",
              "      <td>174872.64</td>\n",
              "      <td>74050.30</td>\n",
              "      <td>37424.11</td>\n",
              "      <td>NaN</td>\n",
              "      <td>286347.05</td>\n",
              "      <td>286347.05</td>\n",
              "      <td>2011</td>\n",
              "      <td>NaN</td>\n",
              "      <td>San Francisco</td>\n",
              "      <td>NaN</td>\n",
              "    </tr>\n",
              "    <tr>\n",
              "      <th>18</th>\n",
              "      <td>19</td>\n",
              "      <td>MARTY ROSS</td>\n",
              "      <td>BATTALION CHIEF, (FIRE DEPARTMENT)</td>\n",
              "      <td>168692.63</td>\n",
              "      <td>69626.12</td>\n",
              "      <td>38115.47</td>\n",
              "      <td>NaN</td>\n",
              "      <td>276434.22</td>\n",
              "      <td>276434.22</td>\n",
              "      <td>2011</td>\n",
              "      <td>NaN</td>\n",
              "      <td>San Francisco</td>\n",
              "      <td>NaN</td>\n",
              "    </tr>\n",
              "    <tr>\n",
              "      <th>23</th>\n",
              "      <td>24</td>\n",
              "      <td>VICTOR WYRSCH</td>\n",
              "      <td>BATTALION CHIEF, (FIRE DEPARTMENT)</td>\n",
              "      <td>168692.63</td>\n",
              "      <td>77896.14</td>\n",
              "      <td>24083.86</td>\n",
              "      <td>NaN</td>\n",
              "      <td>270672.63</td>\n",
              "      <td>270672.63</td>\n",
              "      <td>2011</td>\n",
              "      <td>NaN</td>\n",
              "      <td>San Francisco</td>\n",
              "      <td>NaN</td>\n",
              "    </tr>\n",
              "    <tr>\n",
              "      <th>25</th>\n",
              "      <td>26</td>\n",
              "      <td>GREGORY SUHR</td>\n",
              "      <td>CHIEF OF POLICE</td>\n",
              "      <td>256470.41</td>\n",
              "      <td>0.00</td>\n",
              "      <td>11522.18</td>\n",
              "      <td>NaN</td>\n",
              "      <td>267992.59</td>\n",
              "      <td>267992.59</td>\n",
              "      <td>2011</td>\n",
              "      <td>NaN</td>\n",
              "      <td>San Francisco</td>\n",
              "      <td>NaN</td>\n",
              "    </tr>\n",
              "    <tr>\n",
              "      <th>27</th>\n",
              "      <td>28</td>\n",
              "      <td>RAYMOND GUZMAN</td>\n",
              "      <td>BATTALION CHIEF, (FIRE DEPARTMENT)</td>\n",
              "      <td>168692.59</td>\n",
              "      <td>80706.88</td>\n",
              "      <td>16063.99</td>\n",
              "      <td>NaN</td>\n",
              "      <td>265463.46</td>\n",
              "      <td>265463.46</td>\n",
              "      <td>2011</td>\n",
              "      <td>NaN</td>\n",
              "      <td>San Francisco</td>\n",
              "      <td>NaN</td>\n",
              "    </tr>\n",
              "    <tr>\n",
              "      <th>28</th>\n",
              "      <td>29</td>\n",
              "      <td>DENISE SCHMITT</td>\n",
              "      <td>DEPUTY CHIEF III (POLICE DEPARTMENT)</td>\n",
              "      <td>261717.60</td>\n",
              "      <td>0.00</td>\n",
              "      <td>2357.00</td>\n",
              "      <td>NaN</td>\n",
              "      <td>264074.60</td>\n",
              "      <td>264074.60</td>\n",
              "      <td>2011</td>\n",
              "      <td>NaN</td>\n",
              "      <td>San Francisco</td>\n",
              "      <td>NaN</td>\n",
              "    </tr>\n",
              "    <tr>\n",
              "      <th>29</th>\n",
              "      <td>30</td>\n",
              "      <td>MONICA FIELDS</td>\n",
              "      <td>DEPUTY CHIEF OF DEPARTMENT,(FIRE DEPARTMENT)</td>\n",
              "      <td>246225.60</td>\n",
              "      <td>0.00</td>\n",
              "      <td>15140.54</td>\n",
              "      <td>NaN</td>\n",
              "      <td>261366.14</td>\n",
              "      <td>261366.14</td>\n",
              "      <td>2011</td>\n",
              "      <td>NaN</td>\n",
              "      <td>San Francisco</td>\n",
              "      <td>NaN</td>\n",
              "    </tr>\n",
              "    <tr>\n",
              "      <th>31</th>\n",
              "      <td>32</td>\n",
              "      <td>DAVID SHINN</td>\n",
              "      <td>DEPUTY CHIEF III (POLICE DEPARTMENT)</td>\n",
              "      <td>254027.63</td>\n",
              "      <td>0.00</td>\n",
              "      <td>5899.48</td>\n",
              "      <td>NaN</td>\n",
              "      <td>259927.11</td>\n",
              "      <td>259927.11</td>\n",
              "      <td>2011</td>\n",
              "      <td>NaN</td>\n",
              "      <td>San Francisco</td>\n",
              "      <td>NaN</td>\n",
              "    </tr>\n",
              "    <tr>\n",
              "      <th>34</th>\n",
              "      <td>35</td>\n",
              "      <td>JOSE VELO</td>\n",
              "      <td>BATTALION CHIEF, (FIRE DEPARTMENT)</td>\n",
              "      <td>177781.25</td>\n",
              "      <td>59924.97</td>\n",
              "      <td>20658.00</td>\n",
              "      <td>NaN</td>\n",
              "      <td>258364.22</td>\n",
              "      <td>258364.22</td>\n",
              "      <td>2011</td>\n",
              "      <td>NaN</td>\n",
              "      <td>San Francisco</td>\n",
              "      <td>NaN</td>\n",
              "    </tr>\n",
              "    <tr>\n",
              "      <th>39</th>\n",
              "      <td>40</td>\n",
              "      <td>BRENDAN WARD</td>\n",
              "      <td>BATTALION CHIEF, (FIRE DEPARTMENT)</td>\n",
              "      <td>147158.85</td>\n",
              "      <td>64985.85</td>\n",
              "      <td>39540.46</td>\n",
              "      <td>NaN</td>\n",
              "      <td>251685.16</td>\n",
              "      <td>251685.16</td>\n",
              "      <td>2011</td>\n",
              "      <td>NaN</td>\n",
              "      <td>San Francisco</td>\n",
              "      <td>NaN</td>\n",
              "    </tr>\n",
              "    <tr>\n",
              "      <th>40</th>\n",
              "      <td>41</td>\n",
              "      <td>MICHAEL THOMPSON</td>\n",
              "      <td>BATTALION CHIEF, (FIRE DEPARTMENT)</td>\n",
              "      <td>168692.66</td>\n",
              "      <td>60847.56</td>\n",
              "      <td>21055.17</td>\n",
              "      <td>NaN</td>\n",
              "      <td>250595.39</td>\n",
              "      <td>250595.39</td>\n",
              "      <td>2011</td>\n",
              "      <td>NaN</td>\n",
              "      <td>San Francisco</td>\n",
              "      <td>NaN</td>\n",
              "    </tr>\n",
              "    <tr>\n",
              "      <th>41</th>\n",
              "      <td>42</td>\n",
              "      <td>THOMAS ABBOTT</td>\n",
              "      <td>BATTALION CHIEF, (FIRE DEPARTMENT)</td>\n",
              "      <td>168692.63</td>\n",
              "      <td>59760.90</td>\n",
              "      <td>21954.96</td>\n",
              "      <td>NaN</td>\n",
              "      <td>250408.49</td>\n",
              "      <td>250408.49</td>\n",
              "      <td>2011</td>\n",
              "      <td>NaN</td>\n",
              "      <td>San Francisco</td>\n",
              "      <td>NaN</td>\n",
              "    </tr>\n",
              "    <tr>\n",
              "      <th>42</th>\n",
              "      <td>43</td>\n",
              "      <td>THOMAS SIRAGUSA</td>\n",
              "      <td>DEPUTY CHIEF OF DEPARTMENT,(FIRE DEPARTMENT)</td>\n",
              "      <td>218930.76</td>\n",
              "      <td>4078.00</td>\n",
              "      <td>27330.59</td>\n",
              "      <td>NaN</td>\n",
              "      <td>250339.35</td>\n",
              "      <td>250339.35</td>\n",
              "      <td>2011</td>\n",
              "      <td>NaN</td>\n",
              "      <td>San Francisco</td>\n",
              "      <td>NaN</td>\n",
              "    </tr>\n",
              "    <tr>\n",
              "      <th>46</th>\n",
              "      <td>47</td>\n",
              "      <td>BRYAN RUBENSTEIN</td>\n",
              "      <td>BATTALION CHIEF, (FIRE DEPARTMENT)</td>\n",
              "      <td>168692.64</td>\n",
              "      <td>66199.23</td>\n",
              "      <td>14401.43</td>\n",
              "      <td>NaN</td>\n",
              "      <td>249293.30</td>\n",
              "      <td>249293.30</td>\n",
              "      <td>2011</td>\n",
              "      <td>NaN</td>\n",
              "      <td>San Francisco</td>\n",
              "      <td>NaN</td>\n",
              "    </tr>\n",
              "    <tr>\n",
              "      <th>48</th>\n",
              "      <td>49</td>\n",
              "      <td>JAMES DUDLEY</td>\n",
              "      <td>DEPUTY CHIEF III (POLICE DEPARTMENT)</td>\n",
              "      <td>233867.60</td>\n",
              "      <td>0.00</td>\n",
              "      <td>14851.04</td>\n",
              "      <td>NaN</td>\n",
              "      <td>248718.64</td>\n",
              "      <td>248718.64</td>\n",
              "      <td>2011</td>\n",
              "      <td>NaN</td>\n",
              "      <td>San Francisco</td>\n",
              "      <td>NaN</td>\n",
              "    </tr>\n",
              "    <tr>\n",
              "      <th>50</th>\n",
              "      <td>51</td>\n",
              "      <td>KIRK RICHARDSON</td>\n",
              "      <td>BATTALION CHIEF, (FIRE DEPARTMENT)</td>\n",
              "      <td>168692.59</td>\n",
              "      <td>58084.86</td>\n",
              "      <td>20477.16</td>\n",
              "      <td>NaN</td>\n",
              "      <td>247254.61</td>\n",
              "      <td>247254.61</td>\n",
              "      <td>2011</td>\n",
              "      <td>NaN</td>\n",
              "      <td>San Francisco</td>\n",
              "      <td>NaN</td>\n",
              "    </tr>\n",
              "    <tr>\n",
              "      <th>55</th>\n",
              "      <td>56</td>\n",
              "      <td>KEVIN CASHMAN</td>\n",
              "      <td>DEPUTY CHIEF III (POLICE DEPARTMENT)</td>\n",
              "      <td>226206.80</td>\n",
              "      <td>0.00</td>\n",
              "      <td>15004.37</td>\n",
              "      <td>NaN</td>\n",
              "      <td>241211.17</td>\n",
              "      <td>241211.17</td>\n",
              "      <td>2011</td>\n",
              "      <td>NaN</td>\n",
              "      <td>San Francisco</td>\n",
              "      <td>NaN</td>\n",
              "    </tr>\n",
              "    <tr>\n",
              "      <th>57</th>\n",
              "      <td>58</td>\n",
              "      <td>MARK KEARNEY</td>\n",
              "      <td>ASSISTANT DEPUTY CHIEF II</td>\n",
              "      <td>217410.80</td>\n",
              "      <td>0.00</td>\n",
              "      <td>22608.30</td>\n",
              "      <td>NaN</td>\n",
              "      <td>240019.10</td>\n",
              "      <td>240019.10</td>\n",
              "      <td>2011</td>\n",
              "      <td>NaN</td>\n",
              "      <td>San Francisco</td>\n",
              "      <td>NaN</td>\n",
              "    </tr>\n",
              "    <tr>\n",
              "      <th>63</th>\n",
              "      <td>64</td>\n",
              "      <td>CHARLES CRANE</td>\n",
              "      <td>BATTALION CHIEF, (FIRE DEPARTMENT)</td>\n",
              "      <td>168692.62</td>\n",
              "      <td>54342.28</td>\n",
              "      <td>15444.38</td>\n",
              "      <td>NaN</td>\n",
              "      <td>238479.28</td>\n",
              "      <td>238479.28</td>\n",
              "      <td>2011</td>\n",
              "      <td>NaN</td>\n",
              "      <td>San Francisco</td>\n",
              "      <td>NaN</td>\n",
              "    </tr>\n",
              "    <tr>\n",
              "      <th>66</th>\n",
              "      <td>67</td>\n",
              "      <td>ROBERT POSTEL</td>\n",
              "      <td>ASSISTANT CHIEF OF DEPARTMENT, (FIRE DEPARTMENT)</td>\n",
              "      <td>177914.76</td>\n",
              "      <td>36644.57</td>\n",
              "      <td>22785.08</td>\n",
              "      <td>NaN</td>\n",
              "      <td>237344.41</td>\n",
              "      <td>237344.41</td>\n",
              "      <td>2011</td>\n",
              "      <td>NaN</td>\n",
              "      <td>San Francisco</td>\n",
              "      <td>NaN</td>\n",
              "    </tr>\n",
              "    <tr>\n",
              "      <th>68</th>\n",
              "      <td>69</td>\n",
              "      <td>THOMAS SHAWYER</td>\n",
              "      <td>DEPUTY CHIEF III (POLICE DEPARTMENT)</td>\n",
              "      <td>122974.00</td>\n",
              "      <td>0.00</td>\n",
              "      <td>113226.92</td>\n",
              "      <td>NaN</td>\n",
              "      <td>236200.92</td>\n",
              "      <td>236200.92</td>\n",
              "      <td>2011</td>\n",
              "      <td>NaN</td>\n",
              "      <td>San Francisco</td>\n",
              "      <td>NaN</td>\n",
              "    </tr>\n",
              "    <tr>\n",
              "      <th>71</th>\n",
              "      <td>72</td>\n",
              "      <td>RICHARD BUSALACCHI</td>\n",
              "      <td>BATTALION CHIEF, (FIRE DEPARTMENT)</td>\n",
              "      <td>92782.61</td>\n",
              "      <td>5477.62</td>\n",
              "      <td>135684.25</td>\n",
              "      <td>NaN</td>\n",
              "      <td>233944.48</td>\n",
              "      <td>233944.48</td>\n",
              "      <td>2011</td>\n",
              "      <td>NaN</td>\n",
              "      <td>San Francisco</td>\n",
              "      <td>NaN</td>\n",
              "    </tr>\n",
              "    <tr>\n",
              "      <th>76</th>\n",
              "      <td>77</td>\n",
              "      <td>KEVIN BURKE</td>\n",
              "      <td>BATTALION CHIEF, (FIRE DEPARTMENT)</td>\n",
              "      <td>174872.64</td>\n",
              "      <td>16876.74</td>\n",
              "      <td>40258.39</td>\n",
              "      <td>NaN</td>\n",
              "      <td>232007.77</td>\n",
              "      <td>232007.77</td>\n",
              "      <td>2011</td>\n",
              "      <td>NaN</td>\n",
              "      <td>San Francisco</td>\n",
              "      <td>NaN</td>\n",
              "    </tr>\n",
              "    <tr>\n",
              "      <th>79</th>\n",
              "      <td>80</td>\n",
              "      <td>EDUARDO GONZALEZ</td>\n",
              "      <td>BATTALION CHIEF, (FIRE DEPARTMENT)</td>\n",
              "      <td>168692.62</td>\n",
              "      <td>35096.74</td>\n",
              "      <td>27802.89</td>\n",
              "      <td>NaN</td>\n",
              "      <td>231592.25</td>\n",
              "      <td>231592.25</td>\n",
              "      <td>2011</td>\n",
              "      <td>NaN</td>\n",
              "      <td>San Francisco</td>\n",
              "      <td>NaN</td>\n",
              "    </tr>\n",
              "    <tr>\n",
              "      <th>...</th>\n",
              "      <td>...</td>\n",
              "      <td>...</td>\n",
              "      <td>...</td>\n",
              "      <td>...</td>\n",
              "      <td>...</td>\n",
              "      <td>...</td>\n",
              "      <td>...</td>\n",
              "      <td>...</td>\n",
              "      <td>...</td>\n",
              "      <td>...</td>\n",
              "      <td>...</td>\n",
              "      <td>...</td>\n",
              "      <td>...</td>\n",
              "    </tr>\n",
              "    <tr>\n",
              "      <th>16466</th>\n",
              "      <td>16467</td>\n",
              "      <td>RACHEL GOSIENGFIAO</td>\n",
              "      <td>CHIEF CLERK</td>\n",
              "      <td>72844.46</td>\n",
              "      <td>0.00</td>\n",
              "      <td>120.00</td>\n",
              "      <td>NaN</td>\n",
              "      <td>72964.46</td>\n",
              "      <td>72964.46</td>\n",
              "      <td>2011</td>\n",
              "      <td>NaN</td>\n",
              "      <td>San Francisco</td>\n",
              "      <td>NaN</td>\n",
              "    </tr>\n",
              "    <tr>\n",
              "      <th>16467</th>\n",
              "      <td>16468</td>\n",
              "      <td>JENNIFER NOVAK</td>\n",
              "      <td>CHIEF CLERK</td>\n",
              "      <td>72844.44</td>\n",
              "      <td>0.00</td>\n",
              "      <td>120.00</td>\n",
              "      <td>NaN</td>\n",
              "      <td>72964.44</td>\n",
              "      <td>72964.44</td>\n",
              "      <td>2011</td>\n",
              "      <td>NaN</td>\n",
              "      <td>San Francisco</td>\n",
              "      <td>NaN</td>\n",
              "    </tr>\n",
              "    <tr>\n",
              "      <th>16468</th>\n",
              "      <td>16469</td>\n",
              "      <td>DEBORAH BROWN</td>\n",
              "      <td>CHIEF CLERK</td>\n",
              "      <td>72844.41</td>\n",
              "      <td>0.00</td>\n",
              "      <td>120.00</td>\n",
              "      <td>NaN</td>\n",
              "      <td>72964.41</td>\n",
              "      <td>72964.41</td>\n",
              "      <td>2011</td>\n",
              "      <td>NaN</td>\n",
              "      <td>San Francisco</td>\n",
              "      <td>NaN</td>\n",
              "    </tr>\n",
              "    <tr>\n",
              "      <th>16504</th>\n",
              "      <td>16505</td>\n",
              "      <td>EMILY KRETZ</td>\n",
              "      <td>CHIEF CLERK</td>\n",
              "      <td>72844.45</td>\n",
              "      <td>0.00</td>\n",
              "      <td>0.00</td>\n",
              "      <td>NaN</td>\n",
              "      <td>72844.45</td>\n",
              "      <td>72844.45</td>\n",
              "      <td>2011</td>\n",
              "      <td>NaN</td>\n",
              "      <td>San Francisco</td>\n",
              "      <td>NaN</td>\n",
              "    </tr>\n",
              "    <tr>\n",
              "      <th>16505</th>\n",
              "      <td>16506</td>\n",
              "      <td>SYLVIA THAI</td>\n",
              "      <td>CHIEF CLERK</td>\n",
              "      <td>72844.44</td>\n",
              "      <td>0.00</td>\n",
              "      <td>0.00</td>\n",
              "      <td>NaN</td>\n",
              "      <td>72844.44</td>\n",
              "      <td>72844.44</td>\n",
              "      <td>2011</td>\n",
              "      <td>NaN</td>\n",
              "      <td>San Francisco</td>\n",
              "      <td>NaN</td>\n",
              "    </tr>\n",
              "    <tr>\n",
              "      <th>16506</th>\n",
              "      <td>16507</td>\n",
              "      <td>PETER AVILES</td>\n",
              "      <td>CHIEF CLERK</td>\n",
              "      <td>72844.40</td>\n",
              "      <td>0.00</td>\n",
              "      <td>0.00</td>\n",
              "      <td>NaN</td>\n",
              "      <td>72844.40</td>\n",
              "      <td>72844.40</td>\n",
              "      <td>2011</td>\n",
              "      <td>NaN</td>\n",
              "      <td>San Francisco</td>\n",
              "      <td>NaN</td>\n",
              "    </tr>\n",
              "    <tr>\n",
              "      <th>16508</th>\n",
              "      <td>16509</td>\n",
              "      <td>SOGRA KADIR</td>\n",
              "      <td>CHIEF CLERK</td>\n",
              "      <td>72844.08</td>\n",
              "      <td>0.00</td>\n",
              "      <td>0.00</td>\n",
              "      <td>NaN</td>\n",
              "      <td>72844.08</td>\n",
              "      <td>72844.08</td>\n",
              "      <td>2011</td>\n",
              "      <td>NaN</td>\n",
              "      <td>San Francisco</td>\n",
              "      <td>NaN</td>\n",
              "    </tr>\n",
              "    <tr>\n",
              "      <th>16814</th>\n",
              "      <td>16815</td>\n",
              "      <td>SHAHIN SHAIKH</td>\n",
              "      <td>CHIEF CLERK</td>\n",
              "      <td>71958.50</td>\n",
              "      <td>0.00</td>\n",
              "      <td>0.00</td>\n",
              "      <td>NaN</td>\n",
              "      <td>71958.50</td>\n",
              "      <td>71958.50</td>\n",
              "      <td>2011</td>\n",
              "      <td>NaN</td>\n",
              "      <td>San Francisco</td>\n",
              "      <td>NaN</td>\n",
              "    </tr>\n",
              "    <tr>\n",
              "      <th>16945</th>\n",
              "      <td>16946</td>\n",
              "      <td>DAVID KOCH</td>\n",
              "      <td>CHIEF DEPUTY ADULT PROBATION OFFICER</td>\n",
              "      <td>71545.65</td>\n",
              "      <td>0.00</td>\n",
              "      <td>0.00</td>\n",
              "      <td>NaN</td>\n",
              "      <td>71545.65</td>\n",
              "      <td>71545.65</td>\n",
              "      <td>2011</td>\n",
              "      <td>NaN</td>\n",
              "      <td>San Francisco</td>\n",
              "      <td>NaN</td>\n",
              "    </tr>\n",
              "    <tr>\n",
              "      <th>17180</th>\n",
              "      <td>17181</td>\n",
              "      <td>DAVID PALMA</td>\n",
              "      <td>CHIEF PAYROLL AND PERSONNEL CLERK</td>\n",
              "      <td>67629.72</td>\n",
              "      <td>3282.17</td>\n",
              "      <td>0.00</td>\n",
              "      <td>NaN</td>\n",
              "      <td>70911.89</td>\n",
              "      <td>70911.89</td>\n",
              "      <td>2011</td>\n",
              "      <td>NaN</td>\n",
              "      <td>San Francisco</td>\n",
              "      <td>NaN</td>\n",
              "    </tr>\n",
              "    <tr>\n",
              "      <th>17715</th>\n",
              "      <td>17716</td>\n",
              "      <td>WAI-FONG CHEUNG</td>\n",
              "      <td>CHIEF CLERK</td>\n",
              "      <td>68276.64</td>\n",
              "      <td>0.00</td>\n",
              "      <td>880.00</td>\n",
              "      <td>NaN</td>\n",
              "      <td>69156.64</td>\n",
              "      <td>69156.64</td>\n",
              "      <td>2011</td>\n",
              "      <td>NaN</td>\n",
              "      <td>San Francisco</td>\n",
              "      <td>NaN</td>\n",
              "    </tr>\n",
              "    <tr>\n",
              "      <th>17812</th>\n",
              "      <td>17813</td>\n",
              "      <td>CRIS LOGIA-JR</td>\n",
              "      <td>CHIEF STATIONARY ENGINEER, SEWAGE PLANT</td>\n",
              "      <td>41280.00</td>\n",
              "      <td>85.18</td>\n",
              "      <td>27585.32</td>\n",
              "      <td>NaN</td>\n",
              "      <td>68950.50</td>\n",
              "      <td>68950.50</td>\n",
              "      <td>2011</td>\n",
              "      <td>NaN</td>\n",
              "      <td>San Francisco</td>\n",
              "      <td>NaN</td>\n",
              "    </tr>\n",
              "    <tr>\n",
              "      <th>17938</th>\n",
              "      <td>17939</td>\n",
              "      <td>ARTIE KELLY</td>\n",
              "      <td>CHIEF CLERK</td>\n",
              "      <td>68124.67</td>\n",
              "      <td>0.00</td>\n",
              "      <td>468.66</td>\n",
              "      <td>NaN</td>\n",
              "      <td>68593.33</td>\n",
              "      <td>68593.33</td>\n",
              "      <td>2011</td>\n",
              "      <td>NaN</td>\n",
              "      <td>San Francisco</td>\n",
              "      <td>NaN</td>\n",
              "    </tr>\n",
              "    <tr>\n",
              "      <th>18051</th>\n",
              "      <td>18052</td>\n",
              "      <td>CHRISTINA WANG</td>\n",
              "      <td>CHIEF CLERK</td>\n",
              "      <td>68276.60</td>\n",
              "      <td>0.00</td>\n",
              "      <td>0.00</td>\n",
              "      <td>NaN</td>\n",
              "      <td>68276.60</td>\n",
              "      <td>68276.60</td>\n",
              "      <td>2011</td>\n",
              "      <td>NaN</td>\n",
              "      <td>San Francisco</td>\n",
              "      <td>NaN</td>\n",
              "    </tr>\n",
              "    <tr>\n",
              "      <th>18602</th>\n",
              "      <td>18603</td>\n",
              "      <td>JUDITH BOYAJIAN</td>\n",
              "      <td>ASSISTANT CHIEF ATTORNEY I</td>\n",
              "      <td>67068.96</td>\n",
              "      <td>0.00</td>\n",
              "      <td>0.00</td>\n",
              "      <td>NaN</td>\n",
              "      <td>67068.96</td>\n",
              "      <td>67068.96</td>\n",
              "      <td>2011</td>\n",
              "      <td>NaN</td>\n",
              "      <td>San Francisco</td>\n",
              "      <td>NaN</td>\n",
              "    </tr>\n",
              "    <tr>\n",
              "      <th>18983</th>\n",
              "      <td>18984</td>\n",
              "      <td>MARK ANTONIO</td>\n",
              "      <td>CHIEF CLERK</td>\n",
              "      <td>63667.38</td>\n",
              "      <td>0.00</td>\n",
              "      <td>2457.80</td>\n",
              "      <td>NaN</td>\n",
              "      <td>66125.18</td>\n",
              "      <td>66125.18</td>\n",
              "      <td>2011</td>\n",
              "      <td>NaN</td>\n",
              "      <td>San Francisco</td>\n",
              "      <td>NaN</td>\n",
              "    </tr>\n",
              "    <tr>\n",
              "      <th>20300</th>\n",
              "      <td>20301</td>\n",
              "      <td>TERESA CAFFESE</td>\n",
              "      <td>CHIEF ATTORNEY I (CIVIL &amp; CRIMINAL)</td>\n",
              "      <td>26529.86</td>\n",
              "      <td>0.00</td>\n",
              "      <td>35784.00</td>\n",
              "      <td>NaN</td>\n",
              "      <td>62313.86</td>\n",
              "      <td>62313.86</td>\n",
              "      <td>2011</td>\n",
              "      <td>NaN</td>\n",
              "      <td>San Francisco</td>\n",
              "      <td>NaN</td>\n",
              "    </tr>\n",
              "    <tr>\n",
              "      <th>23816</th>\n",
              "      <td>23817</td>\n",
              "      <td>PAULA JESSON</td>\n",
              "      <td>ASSISTANT CHIEF ATTORNEY I</td>\n",
              "      <td>52739.23</td>\n",
              "      <td>0.00</td>\n",
              "      <td>0.00</td>\n",
              "      <td>NaN</td>\n",
              "      <td>52739.23</td>\n",
              "      <td>52739.23</td>\n",
              "      <td>2011</td>\n",
              "      <td>NaN</td>\n",
              "      <td>San Francisco</td>\n",
              "      <td>NaN</td>\n",
              "    </tr>\n",
              "    <tr>\n",
              "      <th>25036</th>\n",
              "      <td>25037</td>\n",
              "      <td>TONY DURKEE</td>\n",
              "      <td>CHIEF SURVEYOR</td>\n",
              "      <td>48918.33</td>\n",
              "      <td>0.00</td>\n",
              "      <td>0.00</td>\n",
              "      <td>NaN</td>\n",
              "      <td>48918.33</td>\n",
              "      <td>48918.33</td>\n",
              "      <td>2011</td>\n",
              "      <td>NaN</td>\n",
              "      <td>San Francisco</td>\n",
              "      <td>NaN</td>\n",
              "    </tr>\n",
              "    <tr>\n",
              "      <th>25449</th>\n",
              "      <td>25450</td>\n",
              "      <td>ANN CASTILLO</td>\n",
              "      <td>CHIEF TELEPHONE OPERATOR</td>\n",
              "      <td>46999.85</td>\n",
              "      <td>0.00</td>\n",
              "      <td>507.30</td>\n",
              "      <td>NaN</td>\n",
              "      <td>47507.15</td>\n",
              "      <td>47507.15</td>\n",
              "      <td>2011</td>\n",
              "      <td>NaN</td>\n",
              "      <td>San Francisco</td>\n",
              "      <td>NaN</td>\n",
              "    </tr>\n",
              "    <tr>\n",
              "      <th>26559</th>\n",
              "      <td>26560</td>\n",
              "      <td>SHARON JACKSON</td>\n",
              "      <td>CHIEF DEPUTY ADULT PROBATION OFFICER</td>\n",
              "      <td>41117.10</td>\n",
              "      <td>0.00</td>\n",
              "      <td>0.00</td>\n",
              "      <td>NaN</td>\n",
              "      <td>41117.10</td>\n",
              "      <td>41117.10</td>\n",
              "      <td>2011</td>\n",
              "      <td>NaN</td>\n",
              "      <td>San Francisco</td>\n",
              "      <td>NaN</td>\n",
              "    </tr>\n",
              "    <tr>\n",
              "      <th>28592</th>\n",
              "      <td>28593</td>\n",
              "      <td>SARA BENNETT</td>\n",
              "      <td>CHIEF PREPARATOR</td>\n",
              "      <td>25371.00</td>\n",
              "      <td>0.00</td>\n",
              "      <td>0.00</td>\n",
              "      <td>NaN</td>\n",
              "      <td>25371.00</td>\n",
              "      <td>25371.00</td>\n",
              "      <td>2011</td>\n",
              "      <td>NaN</td>\n",
              "      <td>San Francisco</td>\n",
              "      <td>NaN</td>\n",
              "    </tr>\n",
              "    <tr>\n",
              "      <th>29342</th>\n",
              "      <td>29343</td>\n",
              "      <td>CHERYL COLEMAN</td>\n",
              "      <td>CHIEF CLERK</td>\n",
              "      <td>20067.52</td>\n",
              "      <td>0.00</td>\n",
              "      <td>0.00</td>\n",
              "      <td>NaN</td>\n",
              "      <td>20067.52</td>\n",
              "      <td>20067.52</td>\n",
              "      <td>2011</td>\n",
              "      <td>NaN</td>\n",
              "      <td>San Francisco</td>\n",
              "      <td>NaN</td>\n",
              "    </tr>\n",
              "    <tr>\n",
              "      <th>29898</th>\n",
              "      <td>29899</td>\n",
              "      <td>JAMES TAYLOR</td>\n",
              "      <td>CHIEF STATIONARY ENGINEER</td>\n",
              "      <td>9137.22</td>\n",
              "      <td>1667.14</td>\n",
              "      <td>6113.76</td>\n",
              "      <td>NaN</td>\n",
              "      <td>16918.12</td>\n",
              "      <td>16918.12</td>\n",
              "      <td>2011</td>\n",
              "      <td>NaN</td>\n",
              "      <td>San Francisco</td>\n",
              "      <td>NaN</td>\n",
              "    </tr>\n",
              "    <tr>\n",
              "      <th>30155</th>\n",
              "      <td>30156</td>\n",
              "      <td>JOHN WALL</td>\n",
              "      <td>CHIEF STATIONARY ENGINEER, SEWAGE PLANT</td>\n",
              "      <td>5451.60</td>\n",
              "      <td>0.00</td>\n",
              "      <td>10173.82</td>\n",
              "      <td>NaN</td>\n",
              "      <td>15625.42</td>\n",
              "      <td>15625.42</td>\n",
              "      <td>2011</td>\n",
              "      <td>NaN</td>\n",
              "      <td>San Francisco</td>\n",
              "      <td>NaN</td>\n",
              "    </tr>\n",
              "    <tr>\n",
              "      <th>31735</th>\n",
              "      <td>31736</td>\n",
              "      <td>BRENT POWELL</td>\n",
              "      <td>CHIEF PREPARATOR</td>\n",
              "      <td>7962.00</td>\n",
              "      <td>0.00</td>\n",
              "      <td>1699.22</td>\n",
              "      <td>NaN</td>\n",
              "      <td>9661.22</td>\n",
              "      <td>9661.22</td>\n",
              "      <td>2011</td>\n",
              "      <td>NaN</td>\n",
              "      <td>San Francisco</td>\n",
              "      <td>NaN</td>\n",
              "    </tr>\n",
              "    <tr>\n",
              "      <th>32623</th>\n",
              "      <td>32624</td>\n",
              "      <td>JAMES BARDEN</td>\n",
              "      <td>BATTALION CHIEF, (FIRE DEPARTMENT)</td>\n",
              "      <td>0.00</td>\n",
              "      <td>1290.69</td>\n",
              "      <td>5802.68</td>\n",
              "      <td>NaN</td>\n",
              "      <td>7093.37</td>\n",
              "      <td>7093.37</td>\n",
              "      <td>2011</td>\n",
              "      <td>NaN</td>\n",
              "      <td>San Francisco</td>\n",
              "      <td>NaN</td>\n",
              "    </tr>\n",
              "    <tr>\n",
              "      <th>33386</th>\n",
              "      <td>33387</td>\n",
              "      <td>NORMAN DALEY</td>\n",
              "      <td>CHIEF SURVEYOR</td>\n",
              "      <td>4787.20</td>\n",
              "      <td>0.00</td>\n",
              "      <td>0.00</td>\n",
              "      <td>NaN</td>\n",
              "      <td>4787.20</td>\n",
              "      <td>4787.20</td>\n",
              "      <td>2011</td>\n",
              "      <td>NaN</td>\n",
              "      <td>San Francisco</td>\n",
              "      <td>NaN</td>\n",
              "    </tr>\n",
              "    <tr>\n",
              "      <th>34535</th>\n",
              "      <td>34536</td>\n",
              "      <td>SIMON LEE</td>\n",
              "      <td>CHIEF PAYROLL AND PERSONNEL CLERK</td>\n",
              "      <td>0.00</td>\n",
              "      <td>0.00</td>\n",
              "      <td>2453.17</td>\n",
              "      <td>NaN</td>\n",
              "      <td>2453.17</td>\n",
              "      <td>2453.17</td>\n",
              "      <td>2011</td>\n",
              "      <td>NaN</td>\n",
              "      <td>San Francisco</td>\n",
              "      <td>NaN</td>\n",
              "    </tr>\n",
              "    <tr>\n",
              "      <th>35207</th>\n",
              "      <td>35208</td>\n",
              "      <td>PATRICK BOYD</td>\n",
              "      <td>CHIEF ADULT PROBATION OFFICER</td>\n",
              "      <td>1213.24</td>\n",
              "      <td>0.00</td>\n",
              "      <td>0.00</td>\n",
              "      <td>NaN</td>\n",
              "      <td>1213.24</td>\n",
              "      <td>1213.24</td>\n",
              "      <td>2011</td>\n",
              "      <td>NaN</td>\n",
              "      <td>San Francisco</td>\n",
              "      <td>NaN</td>\n",
              "    </tr>\n",
              "  </tbody>\n",
              "</table>\n",
              "<p>204 rows × 13 columns</p>\n",
              "</div>"
            ],
            "text/plain": [
              "          Id        EmployeeName  ...         Agency  Status\n",
              "4          5     PATRICK GARDNER  ...  San Francisco     NaN\n",
              "5          6      DAVID SULLIVAN  ...  San Francisco     NaN\n",
              "6          7           ALSON LEE  ...  San Francisco     NaN\n",
              "8          9      MICHAEL MORRIS  ...  San Francisco     NaN\n",
              "9         10  JOANNE HAYES-WHITE  ...  San Francisco     NaN\n",
              "10        11       ARTHUR KENNEY  ...  San Francisco     NaN\n",
              "14        15      DAVID FRANKLIN  ...  San Francisco     NaN\n",
              "18        19          MARTY ROSS  ...  San Francisco     NaN\n",
              "23        24       VICTOR WYRSCH  ...  San Francisco     NaN\n",
              "25        26        GREGORY SUHR  ...  San Francisco     NaN\n",
              "27        28      RAYMOND GUZMAN  ...  San Francisco     NaN\n",
              "28        29      DENISE SCHMITT  ...  San Francisco     NaN\n",
              "29        30       MONICA FIELDS  ...  San Francisco     NaN\n",
              "31        32         DAVID SHINN  ...  San Francisco     NaN\n",
              "34        35           JOSE VELO  ...  San Francisco     NaN\n",
              "39        40        BRENDAN WARD  ...  San Francisco     NaN\n",
              "40        41    MICHAEL THOMPSON  ...  San Francisco     NaN\n",
              "41        42       THOMAS ABBOTT  ...  San Francisco     NaN\n",
              "42        43     THOMAS SIRAGUSA  ...  San Francisco     NaN\n",
              "46        47    BRYAN RUBENSTEIN  ...  San Francisco     NaN\n",
              "48        49        JAMES DUDLEY  ...  San Francisco     NaN\n",
              "50        51     KIRK RICHARDSON  ...  San Francisco     NaN\n",
              "55        56       KEVIN CASHMAN  ...  San Francisco     NaN\n",
              "57        58        MARK KEARNEY  ...  San Francisco     NaN\n",
              "63        64       CHARLES CRANE  ...  San Francisco     NaN\n",
              "66        67       ROBERT POSTEL  ...  San Francisco     NaN\n",
              "68        69      THOMAS SHAWYER  ...  San Francisco     NaN\n",
              "71        72  RICHARD BUSALACCHI  ...  San Francisco     NaN\n",
              "76        77         KEVIN BURKE  ...  San Francisco     NaN\n",
              "79        80    EDUARDO GONZALEZ  ...  San Francisco     NaN\n",
              "...      ...                 ...  ...            ...     ...\n",
              "16466  16467  RACHEL GOSIENGFIAO  ...  San Francisco     NaN\n",
              "16467  16468      JENNIFER NOVAK  ...  San Francisco     NaN\n",
              "16468  16469       DEBORAH BROWN  ...  San Francisco     NaN\n",
              "16504  16505         EMILY KRETZ  ...  San Francisco     NaN\n",
              "16505  16506         SYLVIA THAI  ...  San Francisco     NaN\n",
              "16506  16507        PETER AVILES  ...  San Francisco     NaN\n",
              "16508  16509         SOGRA KADIR  ...  San Francisco     NaN\n",
              "16814  16815       SHAHIN SHAIKH  ...  San Francisco     NaN\n",
              "16945  16946          DAVID KOCH  ...  San Francisco     NaN\n",
              "17180  17181         DAVID PALMA  ...  San Francisco     NaN\n",
              "17715  17716     WAI-FONG CHEUNG  ...  San Francisco     NaN\n",
              "17812  17813       CRIS LOGIA-JR  ...  San Francisco     NaN\n",
              "17938  17939         ARTIE KELLY  ...  San Francisco     NaN\n",
              "18051  18052      CHRISTINA WANG  ...  San Francisco     NaN\n",
              "18602  18603     JUDITH BOYAJIAN  ...  San Francisco     NaN\n",
              "18983  18984        MARK ANTONIO  ...  San Francisco     NaN\n",
              "20300  20301      TERESA CAFFESE  ...  San Francisco     NaN\n",
              "23816  23817        PAULA JESSON  ...  San Francisco     NaN\n",
              "25036  25037         TONY DURKEE  ...  San Francisco     NaN\n",
              "25449  25450        ANN CASTILLO  ...  San Francisco     NaN\n",
              "26559  26560      SHARON JACKSON  ...  San Francisco     NaN\n",
              "28592  28593        SARA BENNETT  ...  San Francisco     NaN\n",
              "29342  29343      CHERYL COLEMAN  ...  San Francisco     NaN\n",
              "29898  29899        JAMES TAYLOR  ...  San Francisco     NaN\n",
              "30155  30156           JOHN WALL  ...  San Francisco     NaN\n",
              "31735  31736        BRENT POWELL  ...  San Francisco     NaN\n",
              "32623  32624        JAMES BARDEN  ...  San Francisco     NaN\n",
              "33386  33387        NORMAN DALEY  ...  San Francisco     NaN\n",
              "34535  34536           SIMON LEE  ...  San Francisco     NaN\n",
              "35207  35208        PATRICK BOYD  ...  San Francisco     NaN\n",
              "\n",
              "[204 rows x 13 columns]"
            ]
          },
          "metadata": {
            "tags": []
          },
          "execution_count": 22
        }
      ]
    },
    {
      "cell_type": "code",
      "metadata": {
        "id": "ZUE0Xqmp4n2z",
        "colab_type": "code",
        "colab": {
          "base_uri": "https://localhost:8080/",
          "height": 34
        },
        "outputId": "37c902d6-09ae-4ace-efa5-687d4e7b623c"
      },
      "source": [
        "job1 = sal[sal['JobTitle'].str.contains('chief')].shape[0]\n",
        "job2 = sal[sal['JobTitle'].str.contains('Chief')].shape[0]\n",
        "job3 = sal[sal['JobTitle'].str.contains(\"CHIEF\")].shape[0]\n",
        "print('{} people have the word Chief in JobTitle'.format(job1 + job2 + job3))"
      ],
      "execution_count": 23,
      "outputs": [
        {
          "output_type": "stream",
          "text": [
            "627 people have the word Chief in JobTitle\n"
          ],
          "name": "stdout"
        }
      ]
    },
    {
      "cell_type": "markdown",
      "metadata": {
        "colab_type": "text",
        "id": "FSN--wpWsqnO"
      },
      "source": [
        "## Data Visualization\n",
        "\n",
        "**Implement seaborn's countplot with x='Year'**"
      ]
    },
    {
      "cell_type": "code",
      "metadata": {
        "id": "56GKG4UD9nPM",
        "colab_type": "code",
        "outputId": "a59f98a9-8de1-4e5d-b157-49ff54da4cc4",
        "colab": {
          "base_uri": "https://localhost:8080/",
          "height": 300
        }
      },
      "source": [
        "sns.countplot(data=sal, x='Year')"
      ],
      "execution_count": 24,
      "outputs": [
        {
          "output_type": "execute_result",
          "data": {
            "text/plain": [
              "<matplotlib.axes._subplots.AxesSubplot at 0x7fca139a8588>"
            ]
          },
          "metadata": {
            "tags": []
          },
          "execution_count": 24
        },
        {
          "output_type": "display_data",
          "data": {
            "image/png": "[encoded data removed]",
            "text/plain": [
              "<Figure size 432x288 with 1 Axes>"
            ]
          },
          "metadata": {
            "tags": []
          }
        }
      ]
    },
    {
      "cell_type": "markdown",
      "metadata": {
        "id": "orQACfVP9nPP",
        "colab_type": "text"
      },
      "source": [
        "**Implement seaborn's distplot for BasePay of Year 2011**"
      ]
    },
    {
      "cell_type": "code",
      "metadata": {
        "id": "JYPrrLW19nPQ",
        "colab_type": "code",
        "outputId": "a60704ed-e15f-467b-b9f0-14527b27c80c",
        "colab": {
          "base_uri": "https://localhost:8080/",
          "height": 300
        }
      },
      "source": [
        "sns.distplot(sal[sal['Year'] == 2011]['BasePay'])"
      ],
      "execution_count": 25,
      "outputs": [
        {
          "output_type": "execute_result",
          "data": {
            "text/plain": [
              "<matplotlib.axes._subplots.AxesSubplot at 0x7fca110f46d8>"
            ]
          },
          "metadata": {
            "tags": []
          },
          "execution_count": 25
        },
        {
          "output_type": "display_data",
          "data": {
            "image/png": "[encoded data removed]",
            "text/plain": [
              "<Figure size 432x288 with 1 Axes>"
            ]
          },
          "metadata": {
            "tags": []
          }
        }
      ]
    },
    {
      "cell_type": "markdown",
      "metadata": {
        "id": "Ea9OFiqK9nPS",
        "colab_type": "text"
      },
      "source": [
        "**How about other Year**"
      ]
    },
    {
      "cell_type": "code",
      "metadata": {
        "id": "EUySuIhZ-5kb",
        "colab_type": "code",
        "outputId": "ed3e9772-b5e4-4517-8be2-bee8e320138c",
        "colab": {
          "base_uri": "https://localhost:8080/",
          "height": 34
        }
      },
      "source": [
        "sal['Year'].unique()"
      ],
      "execution_count": 26,
      "outputs": [
        {
          "output_type": "execute_result",
          "data": {
            "text/plain": [
              "array([2011, 2012, 2013, 2014])"
            ]
          },
          "metadata": {
            "tags": []
          },
          "execution_count": 26
        }
      ]
    },
    {
      "cell_type": "code",
      "metadata": {
        "id": "orRMn0X89nPT",
        "colab_type": "code",
        "outputId": "89b49392-2ea1-4ba8-c0ab-b0ceb68033c4",
        "colab": {
          "base_uri": "https://localhost:8080/",
          "height": 300
        }
      },
      "source": [
        "sns.distplot(sal[sal['Year'] == 2012]['BasePay'])"
      ],
      "execution_count": 27,
      "outputs": [
        {
          "output_type": "execute_result",
          "data": {
            "text/plain": [
              "<matplotlib.axes._subplots.AxesSubplot at 0x7fca110960b8>"
            ]
          },
          "metadata": {
            "tags": []
          },
          "execution_count": 27
        },
        {
          "output_type": "display_data",
          "data": {
            "image/png": "[encoded data removed]",
            "text/plain": [
              "<Figure size 432x288 with 1 Axes>"
            ]
          },
          "metadata": {
            "tags": []
          }
        }
      ]
    },
    {
      "cell_type": "code",
      "metadata": {
        "id": "cANDTLhb-whQ",
        "colab_type": "code",
        "outputId": "8eece90b-8d13-43e0-c5cc-8ee438f10ff2",
        "colab": {
          "base_uri": "https://localhost:8080/",
          "height": 300
        }
      },
      "source": [
        "sns.distplot(sal[sal['Year'] == 2013]['BasePay'].dropna())"
      ],
      "execution_count": 28,
      "outputs": [
        {
          "output_type": "execute_result",
          "data": {
            "text/plain": [
              "<matplotlib.axes._subplots.AxesSubplot at 0x7fca10f80fd0>"
            ]
          },
          "metadata": {
            "tags": []
          },
          "execution_count": 28
        },
        {
          "output_type": "display_data",
          "data": {
            "image/png": "[encoded data removed]",
            "text/plain": [
              "<Figure size 432x288 with 1 Axes>"
            ]
          },
          "metadata": {
            "tags": []
          }
        }
      ]
    },
    {
      "cell_type": "code",
      "metadata": {
        "id": "FsB5XHHV--1a",
        "colab_type": "code",
        "outputId": "719a771a-3599-481b-adcf-a9d015bf89bc",
        "colab": {
          "base_uri": "https://localhost:8080/",
          "height": 300
        }
      },
      "source": [
        "sns.distplot(sal[sal['Year'] == 2014]['BasePay'].dropna())"
      ],
      "execution_count": 29,
      "outputs": [
        {
          "output_type": "execute_result",
          "data": {
            "text/plain": [
              "<matplotlib.axes._subplots.AxesSubplot at 0x7fca10ee9048>"
            ]
          },
          "metadata": {
            "tags": []
          },
          "execution_count": 29
        },
        {
          "output_type": "display_data",
          "data": {
            "image/png": "[encoded data removed]",
            "text/plain": [
              "<Figure size 432x288 with 1 Axes>"
            ]
          },
          "metadata": {
            "tags": []
          }
        }
      ]
    },
    {
      "cell_type": "markdown",
      "metadata": {
        "id": "00EkkG_s9nPV",
        "colab_type": "text"
      },
      "source": [
        "## Bonus\n",
        "\n",
        "**Visualize top 5 Jobs with BasePay, Benefits and OvertimePay**\n",
        "\n",
        "Keyword: *index, isin, groupby, mean, plot*"
      ]
    },
    {
      "cell_type": "code",
      "metadata": {
        "id": "LoZm87Bu9nPV",
        "colab_type": "code",
        "colab": {}
      },
      "source": [
        "sal1 = sal[['JobTitle', 'BasePay', 'Benefits', 'OvertimePay']]\n",
        "sal2 = sal1.groupby('JobTitle').mean()"
      ],
      "execution_count": 0,
      "outputs": []
    },
    {
      "cell_type": "code",
      "metadata": {
        "id": "MivKiysgC3jE",
        "colab_type": "code",
        "colab": {}
      },
      "source": [
        "sal3 = sal1['JobTitle'].value_counts()[:5]\n",
        "index = sal3.index"
      ],
      "execution_count": 0,
      "outputs": []
    },
    {
      "cell_type": "code",
      "metadata": {
        "id": "hOrWRMysGmdJ",
        "colab_type": "code",
        "colab": {
          "base_uri": "https://localhost:8080/",
          "height": 204
        },
        "outputId": "a2c4dc61-fec3-4c27-8c23-4d7617e727de"
      },
      "source": [
        "result = sal2.loc[index, :]\n",
        "result"
      ],
      "execution_count": 32,
      "outputs": [
        {
          "output_type": "execute_result",
          "data": {
            "text/html": [
              "<div>\n",
              "<style scoped>\n",
              "    .dataframe tbody tr th:only-of-type {\n",
              "        vertical-align: middle;\n",
              "    }\n",
              "\n",
              "    .dataframe tbody tr th {\n",
              "        vertical-align: top;\n",
              "    }\n",
              "\n",
              "    .dataframe thead th {\n",
              "        text-align: right;\n",
              "    }\n",
              "</style>\n",
              "<table border=\"1\" class=\"dataframe\">\n",
              "  <thead>\n",
              "    <tr style=\"text-align: right;\">\n",
              "      <th></th>\n",
              "      <th>BasePay</th>\n",
              "      <th>Benefits</th>\n",
              "      <th>OvertimePay</th>\n",
              "    </tr>\n",
              "  </thead>\n",
              "  <tbody>\n",
              "    <tr>\n",
              "      <th>Transit Operator</th>\n",
              "      <td>51772.154465</td>\n",
              "      <td>27355.597533</td>\n",
              "      <td>11143.260866</td>\n",
              "    </tr>\n",
              "    <tr>\n",
              "      <th>Special Nurse</th>\n",
              "      <td>29929.166718</td>\n",
              "      <td>3210.342240</td>\n",
              "      <td>651.723372</td>\n",
              "    </tr>\n",
              "    <tr>\n",
              "      <th>Registered Nurse</th>\n",
              "      <td>102650.396486</td>\n",
              "      <td>35950.834170</td>\n",
              "      <td>4204.840575</td>\n",
              "    </tr>\n",
              "    <tr>\n",
              "      <th>Public Svc Aide-Public Works</th>\n",
              "      <td>8091.876070</td>\n",
              "      <td>1379.748050</td>\n",
              "      <td>60.017744</td>\n",
              "    </tr>\n",
              "    <tr>\n",
              "      <th>Police Officer 3</th>\n",
              "      <td>108508.662621</td>\n",
              "      <td>32829.713693</td>\n",
              "      <td>16418.062615</td>\n",
              "    </tr>\n",
              "  </tbody>\n",
              "</table>\n",
              "</div>"
            ],
            "text/plain": [
              "                                    BasePay      Benefits   OvertimePay\n",
              "Transit Operator               51772.154465  27355.597533  11143.260866\n",
              "Special Nurse                  29929.166718   3210.342240    651.723372\n",
              "Registered Nurse              102650.396486  35950.834170   4204.840575\n",
              "Public Svc Aide-Public Works    8091.876070   1379.748050     60.017744\n",
              "Police Officer 3              108508.662621  32829.713693  16418.062615"
            ]
          },
          "metadata": {
            "tags": []
          },
          "execution_count": 32
        }
      ]
    },
    {
      "cell_type": "code",
      "metadata": {
        "id": "jkQmdPSbKDE3",
        "colab_type": "code",
        "colab": {
          "base_uri": "https://localhost:8080/",
          "height": 419
        },
        "outputId": "8f7b3121-72ae-4eda-82de-e74c92332ace"
      },
      "source": [
        "result.plot.bar()"
      ],
      "execution_count": 33,
      "outputs": [
        {
          "output_type": "execute_result",
          "data": {
            "text/plain": [
              "<matplotlib.axes._subplots.AxesSubplot at 0x7fca10d61908>"
            ]
          },
          "metadata": {
            "tags": []
          },
          "execution_count": 33
        },
        {
          "output_type": "display_data",
          "data": {
            "image/png": "[encoded data removed]",
            "text/plain": [
              "<Figure size 432x288 with 1 Axes>"
            ]
          },
          "metadata": {
            "tags": []
          }
        }
      ]
    },
    {
      "cell_type": "markdown",
      "metadata": {
        "id": "V2Lz3SGu9nPc",
        "colab_type": "text"
      },
      "source": [
        "**Fun Fact: Is there a correlation between length of the Job Title string and Salary?**\n",
        "\n",
        "*Hint: corr()*"
      ]
    },
    {
      "cell_type": "code",
      "metadata": {
        "id": "CgcrtPdJ9nPd",
        "colab_type": "code",
        "colab": {}
      },
      "source": [
        "# sal4 = sal[['JobTitle', 'TotalPayBenefits']]\n",
        "sal['LengthJobTitle'] = sal['JobTitle'].apply(len)"
      ],
      "execution_count": 0,
      "outputs": []
    },
    {
      "cell_type": "code",
      "metadata": {
        "id": "G8SQ0NhI9nPe",
        "colab_type": "code",
        "colab": {
          "base_uri": "https://localhost:8080/",
          "height": 295
        },
        "outputId": "a8ae441c-2699-4086-ab2d-a6ab143ac0dc"
      },
      "source": [
        "sns.heatmap(data=sal[['LengthJobTitle', 'TotalPayBenefits']].corr(), annot=True, cmap='YlGnBu')"
      ],
      "execution_count": 35,
      "outputs": [
        {
          "output_type": "execute_result",
          "data": {
            "text/plain": [
              "<matplotlib.axes._subplots.AxesSubplot at 0x7fca10cbb780>"
            ]
          },
          "metadata": {
            "tags": []
          },
          "execution_count": 35
        },
        {
          "output_type": "display_data",
          "data": {
            "image/png": "[encoded data removed]",
            "text/plain": [
              "<Figure size 432x288 with 2 Axes>"
            ]
          },
          "metadata": {
            "tags": []
          }
        }
      ]
    },
    {
      "cell_type": "code",
      "metadata": {
        "id": "bImUlPHeOFLG",
        "colab_type": "code",
        "colab": {
          "base_uri": "https://localhost:8080/",
          "height": 637
        },
        "outputId": "0aa85d04-50aa-4b01-dedb-29c3011414c6"
      },
      "source": [
        "plt.figure(figsize=(10, 10))\n",
        "sns.heatmap(data=sal[['LengthJobTitle', 'BasePay', 'OvertimePay',\t'OtherPay',\t'Benefits',\t'TotalPay',\t'TotalPayBenefits']].corr(), annot=True, cmap='YlGnBu')"
      ],
      "execution_count": 36,
      "outputs": [
        {
          "output_type": "execute_result",
          "data": {
            "text/plain": [
              "<matplotlib.axes._subplots.AxesSubplot at 0x7fca0fa12240>"
            ]
          },
          "metadata": {
            "tags": []
          },
          "execution_count": 36
        },
        {
          "output_type": "display_data",
          "data": {
            "image/png": "[encoded data removed]",
            "text/plain": [
              "<Figure size 720x720 with 2 Axes>"
            ]
          },
          "metadata": {
            "tags": []
          }
        }
      ]
    },
    {
      "cell_type": "markdown",
      "metadata": {
        "id": "gY4kMupD9nPg",
        "colab_type": "text"
      },
      "source": [
        "# Great Job!"
      ]
    }
  ]
}