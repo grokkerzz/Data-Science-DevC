{
  "nbformat": 4,
  "nbformat_minor": 0,
  "metadata": {
    "kernelspec": {
      "display_name": "Python 3",
      "language": "python",
      "name": "python3"
    },
    "language_info": {
      "codemirror_mode": {
        "name": "ipython",
        "version": 3
      },
      "file_extension": ".py",
      "mimetype": "text/x-python",
      "name": "python",
      "nbconvert_exporter": "python",
      "pygments_lexer": "ipython3",
      "version": "3.6.5"
    },
    "colab": {
      "name": "Nguyen Huu Phuong Assignment_3.ipynb",
      "version": "0.3.2",
      "provenance": [],
      "collapsed_sections": []
    }
  },
  "cells": [
    {
      "cell_type": "markdown",
      "metadata": {
        "id": "4DyposbMnfIw",
        "colab_type": "text"
      },
      "source": [
        "[Bag of Words Meets Bags of Popcorn](https://www.kaggle.com/c/word2vec-nlp-tutorial/data)\n",
        "======\n",
        "\n",
        "## Data Set\n",
        "\n",
        "The labeled data set consists of 50,000 IMDB movie reviews, specially selected for sentiment analysis. The sentiment of reviews is binary, meaning the IMDB rating < 5 results in a sentiment score of 0, and rating >=7 have a sentiment score of 1. No individual movie has more than 30 reviews. The 25,000 review labeled training set does not include any of the same movies as the 25,000 review test set. In addition, there are another 50,000 IMDB reviews provided without any rating labels.\n",
        "\n",
        "## File descriptions\n",
        "\n",
        "labeledTrainData - The labeled training set. The file is tab-delimited and has a header row followed by 25,000 rows containing an id, sentiment, and text for each review.\n",
        "## Data fields\n",
        "\n",
        "* id - Unique ID of each review\n",
        "* sentiment - Sentiment of the review; 1 for positive reviews and 0 for negative reviews\n",
        "* review - Text of the review\n",
        "\n",
        "## Objective\n",
        "Objective of this dataset is base on **review** we predict **sentiment** (positive or negative) so X is **review** column and y is **sentiment** column"
      ]
    },
    {
      "cell_type": "markdown",
      "metadata": {
        "id": "LejKYJCXnfIz",
        "colab_type": "text"
      },
      "source": [
        "## 1. Load Dataset\n",
        "we only forcus on \"labeledTrainData.csv\" file\n",
        "\n",
        "Let's first of all have a look at the data.\n",
        "\n",
        "[Click here to download dataset](https://s3-ap-southeast-1.amazonaws.com/ml101-khanhnguyen/week3/assignment/labeledTrainData.tsv)"
      ]
    },
    {
      "cell_type": "code",
      "metadata": {
        "id": "b5HELFQ-nzAP",
        "colab_type": "code",
        "colab": {}
      },
      "source": [
        "url = 'https://s3-ap-southeast-1.amazonaws.com/ml101-khanhnguyen/week3/assignment/labeledTrainData.tsv'"
      ],
      "execution_count": 0,
      "outputs": []
    },
    {
      "cell_type": "code",
      "metadata": {
        "id": "vEAdQo-lnfI2",
        "colab_type": "code",
        "colab": {}
      },
      "source": [
        "# Import pandas, numpy\n",
        "import pandas as pd\n",
        "import numpy as np"
      ],
      "execution_count": 0,
      "outputs": []
    },
    {
      "cell_type": "code",
      "metadata": {
        "id": "TFoWmyPMnfJB",
        "colab_type": "code",
        "colab": {
          "base_uri": "https://localhost:8080/",
          "height": 1000
        },
        "outputId": "08a913f1-835c-4d36-80de-cfce2bba6d8c"
      },
      "source": [
        "# Read dataset with extra params sep='\\t', encoding=\"latin-1\"\n",
        "data = pd.read_csv(url, sep='\\t', encoding='latin-1')\n",
        "data"
      ],
      "execution_count": 28,
      "outputs": [
        {
          "output_type": "execute_result",
          "data": {
            "text/html": [
              "<div>\n",
              "<style scoped>\n",
              "    .dataframe tbody tr th:only-of-type {\n",
              "        vertical-align: middle;\n",
              "    }\n",
              "\n",
              "    .dataframe tbody tr th {\n",
              "        vertical-align: top;\n",
              "    }\n",
              "\n",
              "    .dataframe thead th {\n",
              "        text-align: right;\n",
              "    }\n",
              "</style>\n",
              "<table border=\"1\" class=\"dataframe\">\n",
              "  <thead>\n",
              "    <tr style=\"text-align: right;\">\n",
              "      <th></th>\n",
              "      <th>id</th>\n",
              "      <th>sentiment</th>\n",
              "      <th>review</th>\n",
              "    </tr>\n",
              "  </thead>\n",
              "  <tbody>\n",
              "    <tr>\n",
              "      <th>0</th>\n",
              "      <td>5814_8</td>\n",
              "      <td>1</td>\n",
              "      <td>With all this stuff going down at the moment w...</td>\n",
              "    </tr>\n",
              "    <tr>\n",
              "      <th>1</th>\n",
              "      <td>2381_9</td>\n",
              "      <td>1</td>\n",
              "      <td>\\The Classic War of the Worlds\\\" by Timothy Hi...</td>\n",
              "    </tr>\n",
              "    <tr>\n",
              "      <th>2</th>\n",
              "      <td>7759_3</td>\n",
              "      <td>0</td>\n",
              "      <td>The film starts with a manager (Nicholas Bell)...</td>\n",
              "    </tr>\n",
              "    <tr>\n",
              "      <th>3</th>\n",
              "      <td>3630_4</td>\n",
              "      <td>0</td>\n",
              "      <td>It must be assumed that those who praised this...</td>\n",
              "    </tr>\n",
              "    <tr>\n",
              "      <th>4</th>\n",
              "      <td>9495_8</td>\n",
              "      <td>1</td>\n",
              "      <td>Superbly trashy and wondrously unpretentious 8...</td>\n",
              "    </tr>\n",
              "    <tr>\n",
              "      <th>5</th>\n",
              "      <td>8196_8</td>\n",
              "      <td>1</td>\n",
              "      <td>I dont know why people think this is such a ba...</td>\n",
              "    </tr>\n",
              "    <tr>\n",
              "      <th>6</th>\n",
              "      <td>7166_2</td>\n",
              "      <td>0</td>\n",
              "      <td>This movie could have been very good, but come...</td>\n",
              "    </tr>\n",
              "    <tr>\n",
              "      <th>7</th>\n",
              "      <td>10633_1</td>\n",
              "      <td>0</td>\n",
              "      <td>I watched this video at a friend's house. I'm ...</td>\n",
              "    </tr>\n",
              "    <tr>\n",
              "      <th>8</th>\n",
              "      <td>319_1</td>\n",
              "      <td>0</td>\n",
              "      <td>A friend of mine bought this film for Â£1, and...</td>\n",
              "    </tr>\n",
              "    <tr>\n",
              "      <th>9</th>\n",
              "      <td>8713_10</td>\n",
              "      <td>1</td>\n",
              "      <td>&lt;br /&gt;&lt;br /&gt;This movie is full of references. ...</td>\n",
              "    </tr>\n",
              "    <tr>\n",
              "      <th>10</th>\n",
              "      <td>2486_3</td>\n",
              "      <td>0</td>\n",
              "      <td>What happens when an army of wetbacks, towelhe...</td>\n",
              "    </tr>\n",
              "    <tr>\n",
              "      <th>11</th>\n",
              "      <td>6811_10</td>\n",
              "      <td>1</td>\n",
              "      <td>Although I generally do not like remakes belie...</td>\n",
              "    </tr>\n",
              "    <tr>\n",
              "      <th>12</th>\n",
              "      <td>11744_9</td>\n",
              "      <td>1</td>\n",
              "      <td>\\Mr. Harvey Lights a Candle\\\" is anchored by a...</td>\n",
              "    </tr>\n",
              "    <tr>\n",
              "      <th>13</th>\n",
              "      <td>7369_1</td>\n",
              "      <td>0</td>\n",
              "      <td>I had a feeling that after \\Submerged\\\", this ...</td>\n",
              "    </tr>\n",
              "    <tr>\n",
              "      <th>14</th>\n",
              "      <td>12081_1</td>\n",
              "      <td>0</td>\n",
              "      <td>note to George Litman, and others: the Mystery...</td>\n",
              "    </tr>\n",
              "    <tr>\n",
              "      <th>15</th>\n",
              "      <td>3561_4</td>\n",
              "      <td>0</td>\n",
              "      <td>Stephen King adaptation (scripted by King hims...</td>\n",
              "    </tr>\n",
              "    <tr>\n",
              "      <th>16</th>\n",
              "      <td>4489_1</td>\n",
              "      <td>0</td>\n",
              "      <td>`The Matrix' was an exciting summer blockbuste...</td>\n",
              "    </tr>\n",
              "    <tr>\n",
              "      <th>17</th>\n",
              "      <td>3951_2</td>\n",
              "      <td>0</td>\n",
              "      <td>Ulli Lommel's 1980 film 'The Boogey Man' is no...</td>\n",
              "    </tr>\n",
              "    <tr>\n",
              "      <th>18</th>\n",
              "      <td>3304_10</td>\n",
              "      <td>1</td>\n",
              "      <td>This movie is one among the very few Indian mo...</td>\n",
              "    </tr>\n",
              "    <tr>\n",
              "      <th>19</th>\n",
              "      <td>9352_10</td>\n",
              "      <td>1</td>\n",
              "      <td>Most people, especially young people, may not ...</td>\n",
              "    </tr>\n",
              "    <tr>\n",
              "      <th>20</th>\n",
              "      <td>3374_7</td>\n",
              "      <td>1</td>\n",
              "      <td>\\Soylent Green\\\" is one of the best and most d...</td>\n",
              "    </tr>\n",
              "    <tr>\n",
              "      <th>21</th>\n",
              "      <td>10782_7</td>\n",
              "      <td>1</td>\n",
              "      <td>Michael Stearns plays Mike, a sexually frustra...</td>\n",
              "    </tr>\n",
              "    <tr>\n",
              "      <th>22</th>\n",
              "      <td>5414_10</td>\n",
              "      <td>1</td>\n",
              "      <td>This happy-go-luck 1939 military swashbuckler,...</td>\n",
              "    </tr>\n",
              "    <tr>\n",
              "      <th>23</th>\n",
              "      <td>10492_1</td>\n",
              "      <td>0</td>\n",
              "      <td>I would love to have that two hours of my life...</td>\n",
              "    </tr>\n",
              "    <tr>\n",
              "      <th>24</th>\n",
              "      <td>3350_3</td>\n",
              "      <td>0</td>\n",
              "      <td>The script for this movie was probably found i...</td>\n",
              "    </tr>\n",
              "    <tr>\n",
              "      <th>25</th>\n",
              "      <td>6581_7</td>\n",
              "      <td>1</td>\n",
              "      <td>Looking for Quo Vadis at my local video store,...</td>\n",
              "    </tr>\n",
              "    <tr>\n",
              "      <th>26</th>\n",
              "      <td>2203_3</td>\n",
              "      <td>0</td>\n",
              "      <td>Note to all mad scientists everywhere: if you'...</td>\n",
              "    </tr>\n",
              "    <tr>\n",
              "      <th>27</th>\n",
              "      <td>689_1</td>\n",
              "      <td>0</td>\n",
              "      <td>What the ........... is this ? This must, with...</td>\n",
              "    </tr>\n",
              "    <tr>\n",
              "      <th>28</th>\n",
              "      <td>9152_1</td>\n",
              "      <td>0</td>\n",
              "      <td>Intrigued by the synopsis (every gay video the...</td>\n",
              "    </tr>\n",
              "    <tr>\n",
              "      <th>29</th>\n",
              "      <td>6077_1</td>\n",
              "      <td>0</td>\n",
              "      <td>Would anyone really watch this RUBBISH if it d...</td>\n",
              "    </tr>\n",
              "    <tr>\n",
              "      <th>...</th>\n",
              "      <td>...</td>\n",
              "      <td>...</td>\n",
              "      <td>...</td>\n",
              "    </tr>\n",
              "    <tr>\n",
              "      <th>24970</th>\n",
              "      <td>9389_7</td>\n",
              "      <td>1</td>\n",
              "      <td>Red Rock West (1993)&lt;br /&gt;&lt;br /&gt;Nicolas Cage g...</td>\n",
              "    </tr>\n",
              "    <tr>\n",
              "      <th>24971</th>\n",
              "      <td>9251_9</td>\n",
              "      <td>1</td>\n",
              "      <td>what can i say?, ms Erika Eleniak is my favori...</td>\n",
              "    </tr>\n",
              "    <tr>\n",
              "      <th>24972</th>\n",
              "      <td>1422_10</td>\n",
              "      <td>1</td>\n",
              "      <td>The spoiler warning is for those people who wa...</td>\n",
              "    </tr>\n",
              "    <tr>\n",
              "      <th>24973</th>\n",
              "      <td>7415_2</td>\n",
              "      <td>0</td>\n",
              "      <td>What do you call a horror story without horror...</td>\n",
              "    </tr>\n",
              "    <tr>\n",
              "      <th>24974</th>\n",
              "      <td>7492_7</td>\n",
              "      <td>1</td>\n",
              "      <td>Though not a horror film in the traditional se...</td>\n",
              "    </tr>\n",
              "    <tr>\n",
              "      <th>24975</th>\n",
              "      <td>7689_10</td>\n",
              "      <td>1</td>\n",
              "      <td>This was what black society was like before th...</td>\n",
              "    </tr>\n",
              "    <tr>\n",
              "      <th>24976</th>\n",
              "      <td>12370_4</td>\n",
              "      <td>0</td>\n",
              "      <td>They probably should have called this movie Th...</td>\n",
              "    </tr>\n",
              "    <tr>\n",
              "      <th>24977</th>\n",
              "      <td>5625_8</td>\n",
              "      <td>1</td>\n",
              "      <td>Attractive Marjorie(Farrah Fawcett)lives in fe...</td>\n",
              "    </tr>\n",
              "    <tr>\n",
              "      <th>24978</th>\n",
              "      <td>9397_9</td>\n",
              "      <td>1</td>\n",
              "      <td>Vaguely reminiscent of great 1940's westerns, ...</td>\n",
              "    </tr>\n",
              "    <tr>\n",
              "      <th>24979</th>\n",
              "      <td>5992_7</td>\n",
              "      <td>1</td>\n",
              "      <td>I admit I had no idea what to expect before vi...</td>\n",
              "    </tr>\n",
              "    <tr>\n",
              "      <th>24980</th>\n",
              "      <td>2488_10</td>\n",
              "      <td>1</td>\n",
              "      <td>To me, the final scene, in which Harris respon...</td>\n",
              "    </tr>\n",
              "    <tr>\n",
              "      <th>24981</th>\n",
              "      <td>9627_10</td>\n",
              "      <td>1</td>\n",
              "      <td>This is by far the funniest short made by the ...</td>\n",
              "    </tr>\n",
              "    <tr>\n",
              "      <th>24982</th>\n",
              "      <td>3822_2</td>\n",
              "      <td>0</td>\n",
              "      <td>To be a Buster Keaton fan is to have your hear...</td>\n",
              "    </tr>\n",
              "    <tr>\n",
              "      <th>24983</th>\n",
              "      <td>5983_4</td>\n",
              "      <td>0</td>\n",
              "      <td>I was one of those \\few Americans\\\" that grew ...</td>\n",
              "    </tr>\n",
              "    <tr>\n",
              "      <th>24984</th>\n",
              "      <td>8021_2</td>\n",
              "      <td>0</td>\n",
              "      <td>Visually disjointed and full of itself, the di...</td>\n",
              "    </tr>\n",
              "    <tr>\n",
              "      <th>24985</th>\n",
              "      <td>3471_3</td>\n",
              "      <td>0</td>\n",
              "      <td>this movie had more holes than a piece of swis...</td>\n",
              "    </tr>\n",
              "    <tr>\n",
              "      <th>24986</th>\n",
              "      <td>6034_10</td>\n",
              "      <td>1</td>\n",
              "      <td>Last November, I had a chance to see this film...</td>\n",
              "    </tr>\n",
              "    <tr>\n",
              "      <th>24987</th>\n",
              "      <td>1988_9</td>\n",
              "      <td>1</td>\n",
              "      <td>First off, I'd like to make a correction on an...</td>\n",
              "    </tr>\n",
              "    <tr>\n",
              "      <th>24988</th>\n",
              "      <td>7623_9</td>\n",
              "      <td>1</td>\n",
              "      <td>While originally reluctant to jump on the band...</td>\n",
              "    </tr>\n",
              "    <tr>\n",
              "      <th>24989</th>\n",
              "      <td>5974_7</td>\n",
              "      <td>1</td>\n",
              "      <td>I heard about this movie when watching VH1's \\...</td>\n",
              "    </tr>\n",
              "    <tr>\n",
              "      <th>24990</th>\n",
              "      <td>2034_9</td>\n",
              "      <td>1</td>\n",
              "      <td>I've never been huge on IMAX films. They're co...</td>\n",
              "    </tr>\n",
              "    <tr>\n",
              "      <th>24991</th>\n",
              "      <td>9416_3</td>\n",
              "      <td>0</td>\n",
              "      <td>Steve McQueen has certainly a lot of loyal fan...</td>\n",
              "    </tr>\n",
              "    <tr>\n",
              "      <th>24992</th>\n",
              "      <td>10994_1</td>\n",
              "      <td>0</td>\n",
              "      <td>Sometimes you wonder how some people get fundi...</td>\n",
              "    </tr>\n",
              "    <tr>\n",
              "      <th>24993</th>\n",
              "      <td>10957_3</td>\n",
              "      <td>0</td>\n",
              "      <td>I am a student of film, and have been for seve...</td>\n",
              "    </tr>\n",
              "    <tr>\n",
              "      <th>24994</th>\n",
              "      <td>2372_1</td>\n",
              "      <td>0</td>\n",
              "      <td>Unimaginably stupid, redundant and humiliating...</td>\n",
              "    </tr>\n",
              "    <tr>\n",
              "      <th>24995</th>\n",
              "      <td>3453_3</td>\n",
              "      <td>0</td>\n",
              "      <td>It seems like more consideration has gone into...</td>\n",
              "    </tr>\n",
              "    <tr>\n",
              "      <th>24996</th>\n",
              "      <td>5064_1</td>\n",
              "      <td>0</td>\n",
              "      <td>I don't believe they made this film. Completel...</td>\n",
              "    </tr>\n",
              "    <tr>\n",
              "      <th>24997</th>\n",
              "      <td>10905_3</td>\n",
              "      <td>0</td>\n",
              "      <td>Guy is a loser. Can't get girls, needs to buil...</td>\n",
              "    </tr>\n",
              "    <tr>\n",
              "      <th>24998</th>\n",
              "      <td>10194_3</td>\n",
              "      <td>0</td>\n",
              "      <td>This 30 minute documentary BuÃ±uel made in the...</td>\n",
              "    </tr>\n",
              "    <tr>\n",
              "      <th>24999</th>\n",
              "      <td>8478_8</td>\n",
              "      <td>1</td>\n",
              "      <td>I saw this movie as a child and it broke my he...</td>\n",
              "    </tr>\n",
              "  </tbody>\n",
              "</table>\n",
              "<p>25000 rows × 3 columns</p>\n",
              "</div>"
            ],
            "text/plain": [
              "            id  sentiment                                             review\n",
              "0       5814_8          1  With all this stuff going down at the moment w...\n",
              "1       2381_9          1  \\The Classic War of the Worlds\\\" by Timothy Hi...\n",
              "2       7759_3          0  The film starts with a manager (Nicholas Bell)...\n",
              "3       3630_4          0  It must be assumed that those who praised this...\n",
              "4       9495_8          1  Superbly trashy and wondrously unpretentious 8...\n",
              "5       8196_8          1  I dont know why people think this is such a ba...\n",
              "6       7166_2          0  This movie could have been very good, but come...\n",
              "7      10633_1          0  I watched this video at a friend's house. I'm ...\n",
              "8        319_1          0  A friend of mine bought this film for Â£1, and...\n",
              "9      8713_10          1  <br /><br />This movie is full of references. ...\n",
              "10      2486_3          0  What happens when an army of wetbacks, towelhe...\n",
              "11     6811_10          1  Although I generally do not like remakes belie...\n",
              "12     11744_9          1  \\Mr. Harvey Lights a Candle\\\" is anchored by a...\n",
              "13      7369_1          0  I had a feeling that after \\Submerged\\\", this ...\n",
              "14     12081_1          0  note to George Litman, and others: the Mystery...\n",
              "15      3561_4          0  Stephen King adaptation (scripted by King hims...\n",
              "16      4489_1          0  `The Matrix' was an exciting summer blockbuste...\n",
              "17      3951_2          0  Ulli Lommel's 1980 film 'The Boogey Man' is no...\n",
              "18     3304_10          1  This movie is one among the very few Indian mo...\n",
              "19     9352_10          1  Most people, especially young people, may not ...\n",
              "20      3374_7          1  \\Soylent Green\\\" is one of the best and most d...\n",
              "21     10782_7          1  Michael Stearns plays Mike, a sexually frustra...\n",
              "22     5414_10          1  This happy-go-luck 1939 military swashbuckler,...\n",
              "23     10492_1          0  I would love to have that two hours of my life...\n",
              "24      3350_3          0  The script for this movie was probably found i...\n",
              "25      6581_7          1  Looking for Quo Vadis at my local video store,...\n",
              "26      2203_3          0  Note to all mad scientists everywhere: if you'...\n",
              "27       689_1          0  What the ........... is this ? This must, with...\n",
              "28      9152_1          0  Intrigued by the synopsis (every gay video the...\n",
              "29      6077_1          0  Would anyone really watch this RUBBISH if it d...\n",
              "...        ...        ...                                                ...\n",
              "24970   9389_7          1  Red Rock West (1993)<br /><br />Nicolas Cage g...\n",
              "24971   9251_9          1  what can i say?, ms Erika Eleniak is my favori...\n",
              "24972  1422_10          1  The spoiler warning is for those people who wa...\n",
              "24973   7415_2          0  What do you call a horror story without horror...\n",
              "24974   7492_7          1  Though not a horror film in the traditional se...\n",
              "24975  7689_10          1  This was what black society was like before th...\n",
              "24976  12370_4          0  They probably should have called this movie Th...\n",
              "24977   5625_8          1  Attractive Marjorie(Farrah Fawcett)lives in fe...\n",
              "24978   9397_9          1  Vaguely reminiscent of great 1940's westerns, ...\n",
              "24979   5992_7          1  I admit I had no idea what to expect before vi...\n",
              "24980  2488_10          1  To me, the final scene, in which Harris respon...\n",
              "24981  9627_10          1  This is by far the funniest short made by the ...\n",
              "24982   3822_2          0  To be a Buster Keaton fan is to have your hear...\n",
              "24983   5983_4          0  I was one of those \\few Americans\\\" that grew ...\n",
              "24984   8021_2          0  Visually disjointed and full of itself, the di...\n",
              "24985   3471_3          0  this movie had more holes than a piece of swis...\n",
              "24986  6034_10          1  Last November, I had a chance to see this film...\n",
              "24987   1988_9          1  First off, I'd like to make a correction on an...\n",
              "24988   7623_9          1  While originally reluctant to jump on the band...\n",
              "24989   5974_7          1  I heard about this movie when watching VH1's \\...\n",
              "24990   2034_9          1  I've never been huge on IMAX films. They're co...\n",
              "24991   9416_3          0  Steve McQueen has certainly a lot of loyal fan...\n",
              "24992  10994_1          0  Sometimes you wonder how some people get fundi...\n",
              "24993  10957_3          0  I am a student of film, and have been for seve...\n",
              "24994   2372_1          0  Unimaginably stupid, redundant and humiliating...\n",
              "24995   3453_3          0  It seems like more consideration has gone into...\n",
              "24996   5064_1          0  I don't believe they made this film. Completel...\n",
              "24997  10905_3          0  Guy is a loser. Can't get girls, needs to buil...\n",
              "24998  10194_3          0  This 30 minute documentary BuÃ±uel made in the...\n",
              "24999   8478_8          1  I saw this movie as a child and it broke my he...\n",
              "\n",
              "[25000 rows x 3 columns]"
            ]
          },
          "metadata": {
            "tags": []
          },
          "execution_count": 28
        }
      ]
    },
    {
      "cell_type": "markdown",
      "metadata": {
        "id": "1fhtU6jXnfJO",
        "colab_type": "text"
      },
      "source": [
        "## 2. Preprocessing"
      ]
    },
    {
      "cell_type": "code",
      "metadata": {
        "id": "GD4T-VjvnfJR",
        "colab_type": "code",
        "colab": {
          "base_uri": "https://localhost:8080/",
          "height": 357
        },
        "outputId": "f1db9884-8c75-4f67-a30a-24ef1c5a804c"
      },
      "source": [
        "# stop words\n",
        "from collections import Counter\n",
        "\n",
        "vocab = Counter()\n",
        "for twit in data['review']:\n",
        "  for word in twit.split(' '):\n",
        "    vocab[word] += 1\n",
        "\n",
        "vocab.most_common(20)"
      ],
      "execution_count": 29,
      "outputs": [
        {
          "output_type": "execute_result",
          "data": {
            "text/plain": [
              "[('the', 287025),\n",
              " ('a', 155092),\n",
              " ('and', 152651),\n",
              " ('of', 142970),\n",
              " ('to', 132568),\n",
              " ('is', 103227),\n",
              " ('in', 85576),\n",
              " ('I', 65971),\n",
              " ('that', 64555),\n",
              " ('this', 57195),\n",
              " ('it', 54416),\n",
              " ('/><br', 50935),\n",
              " ('was', 46697),\n",
              " ('as', 42509),\n",
              " ('with', 41718),\n",
              " ('for', 41067),\n",
              " ('but', 33783),\n",
              " ('The', 33760),\n",
              " ('on', 30765),\n",
              " ('movie', 30496)]"
            ]
          },
          "metadata": {
            "tags": []
          },
          "execution_count": 29
        }
      ]
    },
    {
      "cell_type": "code",
      "metadata": {
        "id": "FqdPufYBrxSE",
        "colab_type": "code",
        "colab": {
          "base_uri": "https://localhost:8080/",
          "height": 68
        },
        "outputId": "7d9930a5-145d-4c90-bd65-a0973eca8045"
      },
      "source": [
        "import nltk\n",
        "nltk.download('stopwords')"
      ],
      "execution_count": 30,
      "outputs": [
        {
          "output_type": "stream",
          "text": [
            "[nltk_data] Downloading package stopwords to /root/nltk_data...\n",
            "[nltk_data]   Package stopwords is already up-to-date!\n"
          ],
          "name": "stdout"
        },
        {
          "output_type": "execute_result",
          "data": {
            "text/plain": [
              "True"
            ]
          },
          "metadata": {
            "tags": []
          },
          "execution_count": 30
        }
      ]
    },
    {
      "cell_type": "code",
      "metadata": {
        "id": "z-XJt0dYr43L",
        "colab_type": "code",
        "colab": {
          "base_uri": "https://localhost:8080/",
          "height": 357
        },
        "outputId": "588d5bf6-20c5-479c-fd6d-cb96b018b2ff"
      },
      "source": [
        "from nltk.corpus import stopwords\n",
        "stop = stopwords.words('english')\n",
        "\n",
        "vocab_reduced = Counter()\n",
        "for w, c in vocab.items():\n",
        "  if not w in stop:\n",
        "    vocab_reduced[w]=c\n",
        "\n",
        "vocab_reduced.most_common(20)"
      ],
      "execution_count": 31,
      "outputs": [
        {
          "output_type": "execute_result",
          "data": {
            "text/plain": [
              "[('I', 65971),\n",
              " ('/><br', 50935),\n",
              " ('The', 33760),\n",
              " ('movie', 30496),\n",
              " ('film', 27394),\n",
              " ('one', 20685),\n",
              " ('like', 18133),\n",
              " ('This', 12279),\n",
              " ('would', 11922),\n",
              " ('good', 11435),\n",
              " ('It', 10950),\n",
              " ('really', 10814),\n",
              " ('even', 10605),\n",
              " ('see', 10154),\n",
              " ('-', 9355),\n",
              " ('get', 8776),\n",
              " ('story', 8523),\n",
              " ('much', 8506),\n",
              " ('time', 7762),\n",
              " ('make', 7485)]"
            ]
          },
          "metadata": {
            "tags": []
          },
          "execution_count": 31
        }
      ]
    },
    {
      "cell_type": "code",
      "metadata": {
        "id": "qaJK_Vj6nfJZ",
        "colab_type": "code",
        "colab": {}
      },
      "source": [
        "# Removing special characters and \"trash\"\n",
        "import re\n",
        "def preprocessor(text):\n",
        "    # Remove HTML markup\n",
        "    text = re.sub('<[^>]*>', '', text)\n",
        "    \n",
        "    # Save emoticons for later appending\n",
        "    emoticons = re.findall('(?::|;|=)(?:-)?(?:\\)|\\(|D|P)', text)\n",
        "\n",
        "    # Your code here\n",
        "    text = (re.sub('[\\W]+', ' ', text.lower()) + ' ' + ' '.join(emoticons).replace('-', ''))    \n",
        "    # Remove any non-word character and append the emoticons,\n",
        "    # removing the nose character for standarization. Convert to lower case\n",
        "    # Your code here\n",
        "    \n",
        "    return text"
      ],
      "execution_count": 0,
      "outputs": []
    },
    {
      "cell_type": "code",
      "metadata": {
        "id": "HvhBU6mQnfJj",
        "colab_type": "code",
        "colab": {}
      },
      "source": [
        "# tokenizer and stemming\n",
        "# tokenizer: to break down our twits in individual words\n",
        "# stemming: reducing a word to its root\n",
        "from nltk.stem import PorterStemmer\n",
        "porter = PorterStemmer()\n",
        "# Your code here\n",
        "def tokenizer(text):\n",
        "  return text.split()\n",
        "\n",
        "def tokenizer_porter(text):\n",
        "    return [porter.stem(text) for word in text.split()]"
      ],
      "execution_count": 0,
      "outputs": []
    },
    {
      "cell_type": "code",
      "metadata": {
        "id": "S9-_BygLnfJq",
        "colab_type": "code",
        "colab": {}
      },
      "source": [
        "# split the dataset in train and test\n",
        "# Your code here\n",
        "from sklearn.model_selection import train_test_split\n",
        "\n",
        "X = data['review']\n",
        "y = data['sentiment']\n",
        "X_train, X_test, y_train, y_test = train_test_split(X, y, test_size=0.3, random_state=101)"
      ],
      "execution_count": 0,
      "outputs": []
    },
    {
      "cell_type": "markdown",
      "metadata": {
        "id": "fPskGgPCnfJy",
        "colab_type": "text"
      },
      "source": [
        "## 3. Create Model and Train \n",
        "\n",
        "Using **Pipeline** to concat **tfidf** step and **LogisticRegression** step"
      ]
    },
    {
      "cell_type": "code",
      "metadata": {
        "id": "BYH9TQp1nfJ0",
        "colab_type": "code",
        "colab": {
          "base_uri": "https://localhost:8080/",
          "height": 479
        },
        "outputId": "33a90009-f005-4a78-ac18-f386ee6f9743"
      },
      "source": [
        "# Import Pipeline, LogisticRegression, TfidfVectorizer\n",
        "from sklearn.pipeline import Pipeline\n",
        "from sklearn.linear_model import LogisticRegression\n",
        "from sklearn.feature_extraction.text import TfidfVectorizer\n",
        "\n",
        "tfidf = TfidfVectorizer(stop_words=stop,\n",
        "                        tokenizer=tokenizer_porter,\n",
        "                        preprocessor=preprocessor)\n",
        "\n",
        "clf = Pipeline([('vect', tfidf),\n",
        "                ('clf', LogisticRegression(random_state=0))])\n",
        "clf.fit(X_train, y_train)"
      ],
      "execution_count": 36,
      "outputs": [
        {
          "output_type": "stream",
          "text": [
            "/usr/local/lib/python3.6/dist-packages/sklearn/feature_extraction/text.py:300: UserWarning: Your stop_words may be inconsistent with your preprocessing. Tokenizing the stop words generated tokens ['a ', 'about ', 'above ', 'after ', 'again ', 'against ', 'ain ', 'all ', 'am ', 'an ', 'and ', 'any ', 'are ', 'aren ', 'aren t ', 'as ', 'at ', 'be ', 'because ', 'been ', 'before ', 'being ', 'below ', 'between ', 'both ', 'but ', 'by ', 'can ', 'couldn ', 'couldn t ', 'd ', 'did ', 'didn ', 'didn t ', 'do ', 'does ', 'doesn ', 'doesn t ', 'doing ', 'don ', 'don t ', 'down ', 'during ', 'each ', 'few ', 'for ', 'from ', 'further ', 'had ', 'hadn ', 'hadn t ', 'has ', 'hasn ', 'hasn t ', 'have ', 'haven ', 'haven t ', 'having ', 'he ', 'her ', 'here ', 'hers ', 'herself ', 'him ', 'himself ', 'his ', 'how ', 'i ', 'if ', 'in ', 'into ', 'is ', 'isn ', 'isn t ', 'it ', 'it s ', 'its ', 'itself ', 'just ', 'll ', 'm ', 'ma ', 'me ', 'mightn ', 'mightn t ', 'more ', 'most ', 'mustn ', 'mustn t ', 'my ', 'myself ', 'needn ', 'needn t ', 'no ', 'nor ', 'not ', 'now ', 'o ', 'of ', 'off ', 'on ', 'once ', 'only ', 'or ', 'other ', 'our ', 'ours ', 'ourselves ', 'out ', 'over ', 'own ', 're ', 's ', 'same ', 'shan ', 'shan t ', 'she ', 'she s ', 'should ', 'should ve ', 'shouldn ', 'shouldn t ', 'so ', 'some ', 'such ', 't ', 'than ', 'that ', 'that ll ', 'the ', 'their ', 'theirs ', 'them ', 'themselves ', 'then ', 'there ', 'these ', 'they ', 'this ', 'those ', 'through ', 'to ', 'too ', 'under ', 'until ', 'up ', 've ', 'very ', 'was ', 'wasn ', 'wasn t ', 'we ', 'were ', 'weren ', 'weren t ', 'what ', 'when ', 'where ', 'which ', 'while ', 'who ', 'whom ', 'why ', 'will ', 'with ', 'won ', 'won t ', 'wouldn ', 'wouldn t ', 'y ', 'you ', 'you d ', 'you ll ', 'you re ', 'you ve ', 'your ', 'yours ', 'yourself ', 'yourselves '] not in stop_words.\n",
            "  'stop_words.' % sorted(inconsistent))\n",
            "/usr/local/lib/python3.6/dist-packages/sklearn/linear_model/logistic.py:432: FutureWarning: Default solver will be changed to 'lbfgs' in 0.22. Specify a solver to silence this warning.\n",
            "  FutureWarning)\n"
          ],
          "name": "stderr"
        },
        {
          "output_type": "execute_result",
          "data": {
            "text/plain": [
              "Pipeline(memory=None,\n",
              "         steps=[('vect',\n",
              "                 TfidfVectorizer(analyzer='word', binary=False,\n",
              "                                 decode_error='strict',\n",
              "                                 dtype=<class 'numpy.float64'>,\n",
              "                                 encoding='utf-8', input='content',\n",
              "                                 lowercase=True, max_df=1.0, max_features=None,\n",
              "                                 min_df=1, ngram_range=(1, 1), norm='l2',\n",
              "                                 preprocessor=<function preprocessor at 0x7f40aad42f28>,\n",
              "                                 smooth_idf=True,\n",
              "                                 stop_words=['i', 'me', 'my', 'myself', '...\n",
              "                                 token_pattern='(?u)\\\\b\\\\w\\\\w+\\\\b',\n",
              "                                 tokenizer=<function tokenizer_porter at 0x7f40ab1ab840>,\n",
              "                                 use_idf=True, vocabulary=None)),\n",
              "                ('clf',\n",
              "                 LogisticRegression(C=1.0, class_weight=None, dual=False,\n",
              "                                    fit_intercept=True, intercept_scaling=1,\n",
              "                                    l1_ratio=None, max_iter=100,\n",
              "                                    multi_class='warn', n_jobs=None,\n",
              "                                    penalty='l2', random_state=0, solver='warn',\n",
              "                                    tol=0.0001, verbose=0, warm_start=False))],\n",
              "         verbose=False)"
            ]
          },
          "metadata": {
            "tags": []
          },
          "execution_count": 36
        }
      ]
    },
    {
      "cell_type": "markdown",
      "metadata": {
        "id": "SCNWp_OZnfJ5",
        "colab_type": "text"
      },
      "source": [
        "## 4. Evaluate Model"
      ]
    },
    {
      "cell_type": "code",
      "metadata": {
        "id": "PcCd6q-VnfJ8",
        "colab_type": "code",
        "colab": {}
      },
      "source": [
        "# Using Test dataset to evaluate model\n",
        "# classification_report\n",
        "# confusion matrix\n",
        "from sklearn.metrics import accuracy_score, confusion_matrix, classification_report\n",
        "\n",
        "# Now apply those above metrics to evaluate your model\n",
        "# Your code here\n",
        "predictions = clf.predict(X_test)\n",
        "print('accuracy:',accuracy_score(y_test,predictions))\n",
        "print('confusion matrix:\\n',confusion_matrix(y_test,predictions))\n",
        "print('classification report:\\n',classification_report(y_test,predictions))"
      ],
      "execution_count": 0,
      "outputs": []
    },
    {
      "cell_type": "markdown",
      "metadata": {
        "id": "S_5Y3KbJnfKB",
        "colab_type": "text"
      },
      "source": [
        "## 5. Export Model "
      ]
    },
    {
      "cell_type": "code",
      "metadata": {
        "id": "fwSb-sq6nfKD",
        "colab_type": "code",
        "colab": {}
      },
      "source": [
        "# Using pickle to export our trained model\n",
        "import pickle\n",
        "import os\n",
        "\n",
        "pickle.dump(clf, open('logisticRegression.pkl', 'wb'), protocol=4)"
      ],
      "execution_count": 0,
      "outputs": []
    }
  ]
}